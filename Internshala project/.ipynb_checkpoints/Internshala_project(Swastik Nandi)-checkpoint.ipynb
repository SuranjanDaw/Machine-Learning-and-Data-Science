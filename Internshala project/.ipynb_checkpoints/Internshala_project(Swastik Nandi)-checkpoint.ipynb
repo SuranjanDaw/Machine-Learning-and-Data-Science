{
 "cells": [
  {
   "cell_type": "markdown",
   "metadata": {},
   "source": [
    "# Importing the required libraries"
   ]
  },
  {
   "cell_type": "code",
   "execution_count": 123,
   "metadata": {},
   "outputs": [],
   "source": [
    "import numpy as np\n",
    "import pandas as pd\n",
    "import seaborn as sns\n",
    "import matplotlib.pyplot as plt\n",
    "%matplotlib inline\n",
    "\n",
    "from sklearn.preprocessing import LabelEncoder\n",
    "from sklearn.preprocessing import StandardScaler\n",
    "from sklearn.linear_model import LogisticRegression\n",
    "from sklearn.model_selection import KFold, StratifiedKFold, train_test_split\n",
    "from sklearn.metrics import roc_auc_score, accuracy_score, confusion_matrix, roc_curve, precision_score, recall_score, precision_recall_curve\n",
    "\n",
    "import warnings\n",
    "warnings.filterwarnings(\"ignore\")"
   ]
  },
  {
   "cell_type": "markdown",
   "metadata": {},
   "source": [
    "# Analysing the data"
   ]
  },
  {
   "cell_type": "code",
   "execution_count": 124,
   "metadata": {},
   "outputs": [],
   "source": [
    "df = pd.read_csv('C:/Users/LENOVO/Desktop/churn_prediction.csv')"
   ]
  },
  {
   "cell_type": "code",
   "execution_count": 125,
   "metadata": {},
   "outputs": [
    {
     "data": {
      "text/plain": [
       "(28382, 21)"
      ]
     },
     "execution_count": 125,
     "metadata": {},
     "output_type": "execute_result"
    }
   ],
   "source": [
    "df.shape"
   ]
  },
  {
   "cell_type": "code",
   "execution_count": 126,
   "metadata": {},
   "outputs": [
    {
     "data": {
      "text/plain": [
       "Index(['customer_id', 'vintage', 'age', 'gender', 'dependents', 'occupation',\n",
       "       'city', 'customer_nw_category', 'branch_code',\n",
       "       'days_since_last_transaction', 'current_balance',\n",
       "       'previous_month_end_balance', 'average_monthly_balance_prevQ',\n",
       "       'average_monthly_balance_prevQ2', 'current_month_credit',\n",
       "       'previous_month_credit', 'current_month_debit', 'previous_month_debit',\n",
       "       'current_month_balance', 'previous_month_balance', 'churn'],\n",
       "      dtype='object')"
      ]
     },
     "execution_count": 126,
     "metadata": {},
     "output_type": "execute_result"
    }
   ],
   "source": [
    "df.columns"
   ]
  },
  {
   "cell_type": "code",
   "execution_count": 127,
   "metadata": {},
   "outputs": [
    {
     "data": {
      "text/plain": [
       "customer_id                         int64\n",
       "vintage                             int64\n",
       "age                                 int64\n",
       "gender                             object\n",
       "dependents                        float64\n",
       "occupation                         object\n",
       "city                              float64\n",
       "customer_nw_category                int64\n",
       "branch_code                         int64\n",
       "days_since_last_transaction       float64\n",
       "current_balance                   float64\n",
       "previous_month_end_balance        float64\n",
       "average_monthly_balance_prevQ     float64\n",
       "average_monthly_balance_prevQ2    float64\n",
       "current_month_credit              float64\n",
       "previous_month_credit             float64\n",
       "current_month_debit               float64\n",
       "previous_month_debit              float64\n",
       "current_month_balance             float64\n",
       "previous_month_balance            float64\n",
       "churn                               int64\n",
       "dtype: object"
      ]
     },
     "execution_count": 127,
     "metadata": {},
     "output_type": "execute_result"
    }
   ],
   "source": [
    "df.dtypes"
   ]
  },
  {
   "cell_type": "markdown",
   "metadata": {},
   "source": [
    "# Treatment Of Missing Values"
   ]
  },
  {
   "cell_type": "code",
   "execution_count": 128,
   "metadata": {},
   "outputs": [
    {
     "data": {
      "text/plain": [
       "customer_id                          0\n",
       "vintage                              0\n",
       "age                                  0\n",
       "gender                             525\n",
       "dependents                        2463\n",
       "occupation                          80\n",
       "city                               803\n",
       "customer_nw_category                 0\n",
       "branch_code                          0\n",
       "days_since_last_transaction       3223\n",
       "current_balance                      0\n",
       "previous_month_end_balance           0\n",
       "average_monthly_balance_prevQ        0\n",
       "average_monthly_balance_prevQ2       0\n",
       "current_month_credit                 0\n",
       "previous_month_credit                0\n",
       "current_month_debit                  0\n",
       "previous_month_debit                 0\n",
       "current_month_balance                0\n",
       "previous_month_balance               0\n",
       "churn                                0\n",
       "dtype: int64"
      ]
     },
     "execution_count": 128,
     "metadata": {},
     "output_type": "execute_result"
    }
   ],
   "source": [
    "# Treating Missing Values\n",
    "df.isnull().sum()"
   ]
  },
  {
   "cell_type": "code",
   "execution_count": 129,
   "metadata": {},
   "outputs": [
    {
     "data": {
      "text/plain": [
       "Male      16548\n",
       "Female    11309\n",
       "Name: gender, dtype: int64"
      ]
     },
     "execution_count": 129,
     "metadata": {},
     "output_type": "execute_result"
    }
   ],
   "source": [
    "# Treating Gender\n",
    "\n",
    "df['gender'].value_counts()"
   ]
  },
  {
   "cell_type": "code",
   "execution_count": 130,
   "metadata": {},
   "outputs": [],
   "source": [
    "# converting gender\n",
    "\n",
    "gender_dict={'Male': 1 , 'Female' : 0}\n",
    "df.replace({'gender' : gender_dict} , inplace = True)\n",
    "df['gender'] = df['gender'].fillna(-1)"
   ]
  },
  {
   "cell_type": "code",
   "execution_count": 131,
   "metadata": {},
   "outputs": [
    {
     "data": {
      "text/plain": [
       " 1.0    16548\n",
       " 0.0    11309\n",
       "-1.0      525\n",
       "Name: gender, dtype: int64"
      ]
     },
     "execution_count": 131,
     "metadata": {},
     "output_type": "execute_result"
    }
   ],
   "source": [
    "df['gender'].value_counts()"
   ]
  },
  {
   "cell_type": "code",
   "execution_count": 132,
   "metadata": {},
   "outputs": [
    {
     "data": {
      "text/plain": [
       "0.0     21435\n",
       "2.0      2150\n",
       "1.0      1395\n",
       "3.0       701\n",
       "4.0       179\n",
       "5.0        41\n",
       "6.0         8\n",
       "7.0         3\n",
       "36.0        1\n",
       "52.0        1\n",
       "25.0        1\n",
       "9.0         1\n",
       "50.0        1\n",
       "32.0        1\n",
       "8.0         1\n",
       "Name: dependents, dtype: int64"
      ]
     },
     "execution_count": 132,
     "metadata": {},
     "output_type": "execute_result"
    }
   ],
   "source": [
    "# analysing dependents column\n",
    "\n",
    "df['dependents'].value_counts()"
   ]
  },
  {
   "cell_type": "code",
   "execution_count": 133,
   "metadata": {},
   "outputs": [],
   "source": [
    "# replacing the missing values of dependents by the mode of the column\n",
    "\n",
    "df['dependents'] = df['dependents'].fillna(0)"
   ]
  },
  {
   "cell_type": "code",
   "execution_count": 134,
   "metadata": {},
   "outputs": [
    {
     "data": {
      "text/plain": [
       "0.0     23898\n",
       "2.0      2150\n",
       "1.0      1395\n",
       "3.0       701\n",
       "4.0       179\n",
       "5.0        41\n",
       "6.0         8\n",
       "7.0         3\n",
       "36.0        1\n",
       "52.0        1\n",
       "25.0        1\n",
       "9.0         1\n",
       "50.0        1\n",
       "32.0        1\n",
       "8.0         1\n",
       "Name: dependents, dtype: int64"
      ]
     },
     "execution_count": 134,
     "metadata": {},
     "output_type": "execute_result"
    }
   ],
   "source": [
    "df['dependents'].value_counts()"
   ]
  },
  {
   "cell_type": "code",
   "execution_count": 135,
   "metadata": {},
   "outputs": [
    {
     "data": {
      "text/plain": [
       "self_employed    17476\n",
       "salaried          6704\n",
       "student           2058\n",
       "retired           2024\n",
       "company             40\n",
       "Name: occupation, dtype: int64"
      ]
     },
     "execution_count": 135,
     "metadata": {},
     "output_type": "execute_result"
    }
   ],
   "source": [
    "#treating Occupation column\n",
    "\n",
    "df['occupation'].value_counts()"
   ]
  },
  {
   "cell_type": "code",
   "execution_count": 136,
   "metadata": {},
   "outputs": [
    {
     "data": {
      "text/plain": [
       "self_employed    17476\n",
       "salaried          6704\n",
       "student           2058\n",
       "retired           2024\n",
       "company             40\n",
       "Name: occupation, dtype: int64"
      ]
     },
     "execution_count": 136,
     "metadata": {},
     "output_type": "execute_result"
    }
   ],
   "source": [
    "df['occupation'].value_counts()"
   ]
  },
  {
   "cell_type": "code",
   "execution_count": 137,
   "metadata": {},
   "outputs": [
    {
     "data": {
      "text/plain": [
       "1020.0    3479\n",
       "1096.0    2016\n",
       "409.0     1334\n",
       "146.0     1291\n",
       "834.0     1138\n",
       "          ... \n",
       "629.0        1\n",
       "527.0        1\n",
       "1212.0       1\n",
       "530.0        1\n",
       "70.0         1\n",
       "Name: city, Length: 1604, dtype: int64"
      ]
     },
     "execution_count": 137,
     "metadata": {},
     "output_type": "execute_result"
    }
   ],
   "source": [
    "# treating city column\n",
    "\n",
    "df['city'].value_counts()"
   ]
  },
  {
   "cell_type": "code",
   "execution_count": 138,
   "metadata": {},
   "outputs": [],
   "source": [
    "# replacing the missing values of city column by mode\n",
    "\n",
    "df['city'] = df['city'].fillna('1020')"
   ]
  },
  {
   "cell_type": "code",
   "execution_count": 139,
   "metadata": {},
   "outputs": [
    {
     "data": {
      "text/plain": [
       "1020.0    3479\n",
       "1096.0    2016\n",
       "409.0     1334\n",
       "146.0     1291\n",
       "834.0     1138\n",
       "          ... \n",
       "789.0        1\n",
       "788.0        1\n",
       "785.0        1\n",
       "784.0        1\n",
       "30.0         1\n",
       "Name: city, Length: 1605, dtype: int64"
      ]
     },
     "execution_count": 139,
     "metadata": {},
     "output_type": "execute_result"
    }
   ],
   "source": [
    "df['city'].value_counts()"
   ]
  },
  {
   "cell_type": "code",
   "execution_count": 140,
   "metadata": {},
   "outputs": [
    {
     "data": {
      "text/plain": [
       "0"
      ]
     },
     "execution_count": 140,
     "metadata": {},
     "output_type": "execute_result"
    }
   ],
   "source": [
    "df['city'].isnull().sum()"
   ]
  },
  {
   "cell_type": "code",
   "execution_count": 141,
   "metadata": {},
   "outputs": [
    {
     "data": {
      "text/plain": [
       "3223"
      ]
     },
     "execution_count": 141,
     "metadata": {},
     "output_type": "execute_result"
    }
   ],
   "source": [
    "df['days_since_last_transaction'].isnull().sum()"
   ]
  },
  {
   "cell_type": "code",
   "execution_count": 142,
   "metadata": {},
   "outputs": [
    {
     "data": {
      "text/plain": [
       "0.0      1672\n",
       "3.0       831\n",
       "14.0      654\n",
       "4.0       632\n",
       "6.0       596\n",
       "         ... \n",
       "170.0       1\n",
       "218.0       1\n",
       "334.0       1\n",
       "288.0       1\n",
       "321.0       1\n",
       "Name: days_since_last_transaction, Length: 360, dtype: int64"
      ]
     },
     "execution_count": 142,
     "metadata": {},
     "output_type": "execute_result"
    }
   ],
   "source": [
    "df['days_since_last_transaction'].value_counts()"
   ]
  },
  {
   "cell_type": "code",
   "execution_count": 143,
   "metadata": {},
   "outputs": [],
   "source": [
    "df['days_since_last_transaction'] = df['days_since_last_transaction'].fillna(999)"
   ]
  },
  {
   "cell_type": "code",
   "execution_count": 144,
   "metadata": {},
   "outputs": [
    {
     "data": {
      "text/plain": [
       "999.0    3223\n",
       "0.0      1672\n",
       "3.0       831\n",
       "14.0      654\n",
       "4.0       632\n",
       "         ... \n",
       "170.0       1\n",
       "218.0       1\n",
       "334.0       1\n",
       "288.0       1\n",
       "321.0       1\n",
       "Name: days_since_last_transaction, Length: 361, dtype: int64"
      ]
     },
     "execution_count": 144,
     "metadata": {},
     "output_type": "execute_result"
    }
   ],
   "source": [
    "df['days_since_last_transaction'].value_counts()"
   ]
  },
  {
   "cell_type": "code",
   "execution_count": 145,
   "metadata": {},
   "outputs": [
    {
     "data": {
      "text/plain": [
       "customer_id                        0\n",
       "vintage                            0\n",
       "age                                0\n",
       "gender                             0\n",
       "dependents                         0\n",
       "occupation                        80\n",
       "city                               0\n",
       "customer_nw_category               0\n",
       "branch_code                        0\n",
       "days_since_last_transaction        0\n",
       "current_balance                    0\n",
       "previous_month_end_balance         0\n",
       "average_monthly_balance_prevQ      0\n",
       "average_monthly_balance_prevQ2     0\n",
       "current_month_credit               0\n",
       "previous_month_credit              0\n",
       "current_month_debit                0\n",
       "previous_month_debit               0\n",
       "current_month_balance              0\n",
       "previous_month_balance             0\n",
       "churn                              0\n",
       "dtype: int64"
      ]
     },
     "execution_count": 145,
     "metadata": {},
     "output_type": "execute_result"
    }
   ],
   "source": [
    "df.isnull().sum()"
   ]
  },
  {
   "cell_type": "code",
   "execution_count": 146,
   "metadata": {},
   "outputs": [
    {
     "data": {
      "text/plain": [
       "0        self_employed\n",
       "1        self_employed\n",
       "2             salaried\n",
       "3        self_employed\n",
       "4        self_employed\n",
       "             ...      \n",
       "28377          student\n",
       "28378    self_employed\n",
       "28379         salaried\n",
       "28380    self_employed\n",
       "28381          student\n",
       "Name: occupation, Length: 28382, dtype: object"
      ]
     },
     "execution_count": 146,
     "metadata": {},
     "output_type": "execute_result"
    }
   ],
   "source": [
    "df['occupation'].fillna('self_employed')"
   ]
  },
  {
   "cell_type": "code",
   "execution_count": 147,
   "metadata": {},
   "outputs": [
    {
     "data": {
      "text/plain": [
       "self_employed    17476\n",
       "salaried          6704\n",
       "student           2058\n",
       "retired           2024\n",
       "company             40\n",
       "Name: occupation, dtype: int64"
      ]
     },
     "execution_count": 147,
     "metadata": {},
     "output_type": "execute_result"
    }
   ],
   "source": [
    "df['occupation'].value_counts()"
   ]
  },
  {
   "cell_type": "code",
   "execution_count": 148,
   "metadata": {},
   "outputs": [
    {
     "data": {
      "text/plain": [
       "customer_id                        0\n",
       "vintage                            0\n",
       "age                                0\n",
       "gender                             0\n",
       "dependents                         0\n",
       "occupation                        80\n",
       "city                               0\n",
       "customer_nw_category               0\n",
       "branch_code                        0\n",
       "days_since_last_transaction        0\n",
       "current_balance                    0\n",
       "previous_month_end_balance         0\n",
       "average_monthly_balance_prevQ      0\n",
       "average_monthly_balance_prevQ2     0\n",
       "current_month_credit               0\n",
       "previous_month_credit              0\n",
       "current_month_debit                0\n",
       "previous_month_debit               0\n",
       "current_month_balance              0\n",
       "previous_month_balance             0\n",
       "churn                              0\n",
       "dtype: int64"
      ]
     },
     "execution_count": 148,
     "metadata": {},
     "output_type": "execute_result"
    }
   ],
   "source": [
    "df.isnull().sum()"
   ]
  },
  {
   "cell_type": "code",
   "execution_count": 149,
   "metadata": {},
   "outputs": [],
   "source": [
    "# replacing the missing values of occupation column by mode\n",
    "\n",
    "df['occupation'] = df['occupation'].fillna('self_employed')"
   ]
  },
  {
   "cell_type": "code",
   "execution_count": 150,
   "metadata": {},
   "outputs": [
    {
     "data": {
      "text/plain": [
       "customer_id                       0\n",
       "vintage                           0\n",
       "age                               0\n",
       "gender                            0\n",
       "dependents                        0\n",
       "occupation                        0\n",
       "city                              0\n",
       "customer_nw_category              0\n",
       "branch_code                       0\n",
       "days_since_last_transaction       0\n",
       "current_balance                   0\n",
       "previous_month_end_balance        0\n",
       "average_monthly_balance_prevQ     0\n",
       "average_monthly_balance_prevQ2    0\n",
       "current_month_credit              0\n",
       "previous_month_credit             0\n",
       "current_month_debit               0\n",
       "previous_month_debit              0\n",
       "current_month_balance             0\n",
       "previous_month_balance            0\n",
       "churn                             0\n",
       "dtype: int64"
      ]
     },
     "execution_count": 150,
     "metadata": {},
     "output_type": "execute_result"
    }
   ],
   "source": [
    "df.isnull().sum()"
   ]
  },
  {
   "cell_type": "code",
   "execution_count": 151,
   "metadata": {},
   "outputs": [
    {
     "data": {
      "text/html": [
       "<div>\n",
       "<style scoped>\n",
       "    .dataframe tbody tr th:only-of-type {\n",
       "        vertical-align: middle;\n",
       "    }\n",
       "\n",
       "    .dataframe tbody tr th {\n",
       "        vertical-align: top;\n",
       "    }\n",
       "\n",
       "    .dataframe thead th {\n",
       "        text-align: right;\n",
       "    }\n",
       "</style>\n",
       "<table border=\"1\" class=\"dataframe\">\n",
       "  <thead>\n",
       "    <tr style=\"text-align: right;\">\n",
       "      <th></th>\n",
       "      <th>customer_id</th>\n",
       "      <th>vintage</th>\n",
       "      <th>age</th>\n",
       "      <th>gender</th>\n",
       "      <th>dependents</th>\n",
       "      <th>occupation</th>\n",
       "      <th>city</th>\n",
       "      <th>customer_nw_category</th>\n",
       "      <th>branch_code</th>\n",
       "      <th>days_since_last_transaction</th>\n",
       "      <th>...</th>\n",
       "      <th>previous_month_end_balance</th>\n",
       "      <th>average_monthly_balance_prevQ</th>\n",
       "      <th>average_monthly_balance_prevQ2</th>\n",
       "      <th>current_month_credit</th>\n",
       "      <th>previous_month_credit</th>\n",
       "      <th>current_month_debit</th>\n",
       "      <th>previous_month_debit</th>\n",
       "      <th>current_month_balance</th>\n",
       "      <th>previous_month_balance</th>\n",
       "      <th>churn</th>\n",
       "    </tr>\n",
       "  </thead>\n",
       "  <tbody>\n",
       "    <tr>\n",
       "      <th>0</th>\n",
       "      <td>1</td>\n",
       "      <td>3135</td>\n",
       "      <td>66</td>\n",
       "      <td>1.0</td>\n",
       "      <td>0.0</td>\n",
       "      <td>self_employed</td>\n",
       "      <td>187</td>\n",
       "      <td>2</td>\n",
       "      <td>755</td>\n",
       "      <td>224.0</td>\n",
       "      <td>...</td>\n",
       "      <td>1458.71</td>\n",
       "      <td>1458.71</td>\n",
       "      <td>1449.07</td>\n",
       "      <td>0.20</td>\n",
       "      <td>0.20</td>\n",
       "      <td>0.20</td>\n",
       "      <td>0.20</td>\n",
       "      <td>1458.71</td>\n",
       "      <td>1458.71</td>\n",
       "      <td>0</td>\n",
       "    </tr>\n",
       "    <tr>\n",
       "      <th>1</th>\n",
       "      <td>2</td>\n",
       "      <td>310</td>\n",
       "      <td>35</td>\n",
       "      <td>1.0</td>\n",
       "      <td>0.0</td>\n",
       "      <td>self_employed</td>\n",
       "      <td>1020</td>\n",
       "      <td>2</td>\n",
       "      <td>3214</td>\n",
       "      <td>60.0</td>\n",
       "      <td>...</td>\n",
       "      <td>8704.66</td>\n",
       "      <td>7799.26</td>\n",
       "      <td>12419.41</td>\n",
       "      <td>0.56</td>\n",
       "      <td>0.56</td>\n",
       "      <td>5486.27</td>\n",
       "      <td>100.56</td>\n",
       "      <td>6496.78</td>\n",
       "      <td>8787.61</td>\n",
       "      <td>0</td>\n",
       "    </tr>\n",
       "    <tr>\n",
       "      <th>2</th>\n",
       "      <td>4</td>\n",
       "      <td>2356</td>\n",
       "      <td>31</td>\n",
       "      <td>1.0</td>\n",
       "      <td>0.0</td>\n",
       "      <td>salaried</td>\n",
       "      <td>146</td>\n",
       "      <td>2</td>\n",
       "      <td>41</td>\n",
       "      <td>999.0</td>\n",
       "      <td>...</td>\n",
       "      <td>5815.29</td>\n",
       "      <td>4910.17</td>\n",
       "      <td>2815.94</td>\n",
       "      <td>0.61</td>\n",
       "      <td>0.61</td>\n",
       "      <td>6046.73</td>\n",
       "      <td>259.23</td>\n",
       "      <td>5006.28</td>\n",
       "      <td>5070.14</td>\n",
       "      <td>0</td>\n",
       "    </tr>\n",
       "    <tr>\n",
       "      <th>3</th>\n",
       "      <td>5</td>\n",
       "      <td>478</td>\n",
       "      <td>90</td>\n",
       "      <td>-1.0</td>\n",
       "      <td>0.0</td>\n",
       "      <td>self_employed</td>\n",
       "      <td>1020</td>\n",
       "      <td>2</td>\n",
       "      <td>582</td>\n",
       "      <td>147.0</td>\n",
       "      <td>...</td>\n",
       "      <td>2291.91</td>\n",
       "      <td>2084.54</td>\n",
       "      <td>1006.54</td>\n",
       "      <td>0.47</td>\n",
       "      <td>0.47</td>\n",
       "      <td>0.47</td>\n",
       "      <td>2143.33</td>\n",
       "      <td>2291.91</td>\n",
       "      <td>1669.79</td>\n",
       "      <td>1</td>\n",
       "    </tr>\n",
       "    <tr>\n",
       "      <th>4</th>\n",
       "      <td>6</td>\n",
       "      <td>2531</td>\n",
       "      <td>42</td>\n",
       "      <td>1.0</td>\n",
       "      <td>2.0</td>\n",
       "      <td>self_employed</td>\n",
       "      <td>1494</td>\n",
       "      <td>3</td>\n",
       "      <td>388</td>\n",
       "      <td>58.0</td>\n",
       "      <td>...</td>\n",
       "      <td>1401.72</td>\n",
       "      <td>1643.31</td>\n",
       "      <td>1871.12</td>\n",
       "      <td>0.33</td>\n",
       "      <td>714.61</td>\n",
       "      <td>588.62</td>\n",
       "      <td>1538.06</td>\n",
       "      <td>1157.15</td>\n",
       "      <td>1677.16</td>\n",
       "      <td>1</td>\n",
       "    </tr>\n",
       "    <tr>\n",
       "      <th>...</th>\n",
       "      <td>...</td>\n",
       "      <td>...</td>\n",
       "      <td>...</td>\n",
       "      <td>...</td>\n",
       "      <td>...</td>\n",
       "      <td>...</td>\n",
       "      <td>...</td>\n",
       "      <td>...</td>\n",
       "      <td>...</td>\n",
       "      <td>...</td>\n",
       "      <td>...</td>\n",
       "      <td>...</td>\n",
       "      <td>...</td>\n",
       "      <td>...</td>\n",
       "      <td>...</td>\n",
       "      <td>...</td>\n",
       "      <td>...</td>\n",
       "      <td>...</td>\n",
       "      <td>...</td>\n",
       "      <td>...</td>\n",
       "      <td>...</td>\n",
       "    </tr>\n",
       "    <tr>\n",
       "      <th>28377</th>\n",
       "      <td>30297</td>\n",
       "      <td>1845</td>\n",
       "      <td>10</td>\n",
       "      <td>0.0</td>\n",
       "      <td>0.0</td>\n",
       "      <td>student</td>\n",
       "      <td>1020</td>\n",
       "      <td>2</td>\n",
       "      <td>1207</td>\n",
       "      <td>70.0</td>\n",
       "      <td>...</td>\n",
       "      <td>1076.43</td>\n",
       "      <td>2282.19</td>\n",
       "      <td>2787.70</td>\n",
       "      <td>0.30</td>\n",
       "      <td>0.30</td>\n",
       "      <td>0.30</td>\n",
       "      <td>0.30</td>\n",
       "      <td>1076.43</td>\n",
       "      <td>1076.43</td>\n",
       "      <td>0</td>\n",
       "    </tr>\n",
       "    <tr>\n",
       "      <th>28378</th>\n",
       "      <td>30298</td>\n",
       "      <td>4919</td>\n",
       "      <td>34</td>\n",
       "      <td>0.0</td>\n",
       "      <td>0.0</td>\n",
       "      <td>self_employed</td>\n",
       "      <td>1046</td>\n",
       "      <td>2</td>\n",
       "      <td>223</td>\n",
       "      <td>14.0</td>\n",
       "      <td>...</td>\n",
       "      <td>4069.21</td>\n",
       "      <td>3668.83</td>\n",
       "      <td>3865.55</td>\n",
       "      <td>1.71</td>\n",
       "      <td>2.29</td>\n",
       "      <td>901.00</td>\n",
       "      <td>1014.07</td>\n",
       "      <td>3738.54</td>\n",
       "      <td>3690.32</td>\n",
       "      <td>0</td>\n",
       "    </tr>\n",
       "    <tr>\n",
       "      <th>28379</th>\n",
       "      <td>30299</td>\n",
       "      <td>297</td>\n",
       "      <td>47</td>\n",
       "      <td>1.0</td>\n",
       "      <td>0.0</td>\n",
       "      <td>salaried</td>\n",
       "      <td>1096</td>\n",
       "      <td>2</td>\n",
       "      <td>588</td>\n",
       "      <td>0.0</td>\n",
       "      <td>...</td>\n",
       "      <td>61017.55</td>\n",
       "      <td>53444.81</td>\n",
       "      <td>21925.81</td>\n",
       "      <td>4666.84</td>\n",
       "      <td>3883.06</td>\n",
       "      <td>168.23</td>\n",
       "      <td>71.80</td>\n",
       "      <td>61078.50</td>\n",
       "      <td>57564.24</td>\n",
       "      <td>1</td>\n",
       "    </tr>\n",
       "    <tr>\n",
       "      <th>28380</th>\n",
       "      <td>30300</td>\n",
       "      <td>2585</td>\n",
       "      <td>50</td>\n",
       "      <td>1.0</td>\n",
       "      <td>3.0</td>\n",
       "      <td>self_employed</td>\n",
       "      <td>1219</td>\n",
       "      <td>3</td>\n",
       "      <td>274</td>\n",
       "      <td>999.0</td>\n",
       "      <td>...</td>\n",
       "      <td>1625.55</td>\n",
       "      <td>1683.20</td>\n",
       "      <td>1857.42</td>\n",
       "      <td>0.20</td>\n",
       "      <td>0.20</td>\n",
       "      <td>0.20</td>\n",
       "      <td>0.20</td>\n",
       "      <td>1625.55</td>\n",
       "      <td>1625.55</td>\n",
       "      <td>0</td>\n",
       "    </tr>\n",
       "    <tr>\n",
       "      <th>28381</th>\n",
       "      <td>30301</td>\n",
       "      <td>2349</td>\n",
       "      <td>18</td>\n",
       "      <td>1.0</td>\n",
       "      <td>0.0</td>\n",
       "      <td>student</td>\n",
       "      <td>1232</td>\n",
       "      <td>2</td>\n",
       "      <td>474</td>\n",
       "      <td>59.0</td>\n",
       "      <td>...</td>\n",
       "      <td>2821.34</td>\n",
       "      <td>3213.44</td>\n",
       "      <td>4447.45</td>\n",
       "      <td>0.11</td>\n",
       "      <td>7.44</td>\n",
       "      <td>714.40</td>\n",
       "      <td>1094.09</td>\n",
       "      <td>2402.62</td>\n",
       "      <td>3260.58</td>\n",
       "      <td>1</td>\n",
       "    </tr>\n",
       "  </tbody>\n",
       "</table>\n",
       "<p>28382 rows × 21 columns</p>\n",
       "</div>"
      ],
      "text/plain": [
       "       customer_id  vintage  age  gender  dependents     occupation  city  \\\n",
       "0                1     3135   66     1.0         0.0  self_employed   187   \n",
       "1                2      310   35     1.0         0.0  self_employed  1020   \n",
       "2                4     2356   31     1.0         0.0       salaried   146   \n",
       "3                5      478   90    -1.0         0.0  self_employed  1020   \n",
       "4                6     2531   42     1.0         2.0  self_employed  1494   \n",
       "...            ...      ...  ...     ...         ...            ...   ...   \n",
       "28377        30297     1845   10     0.0         0.0        student  1020   \n",
       "28378        30298     4919   34     0.0         0.0  self_employed  1046   \n",
       "28379        30299      297   47     1.0         0.0       salaried  1096   \n",
       "28380        30300     2585   50     1.0         3.0  self_employed  1219   \n",
       "28381        30301     2349   18     1.0         0.0        student  1232   \n",
       "\n",
       "       customer_nw_category  branch_code  days_since_last_transaction  ...  \\\n",
       "0                         2          755                        224.0  ...   \n",
       "1                         2         3214                         60.0  ...   \n",
       "2                         2           41                        999.0  ...   \n",
       "3                         2          582                        147.0  ...   \n",
       "4                         3          388                         58.0  ...   \n",
       "...                     ...          ...                          ...  ...   \n",
       "28377                     2         1207                         70.0  ...   \n",
       "28378                     2          223                         14.0  ...   \n",
       "28379                     2          588                          0.0  ...   \n",
       "28380                     3          274                        999.0  ...   \n",
       "28381                     2          474                         59.0  ...   \n",
       "\n",
       "       previous_month_end_balance  average_monthly_balance_prevQ  \\\n",
       "0                         1458.71                        1458.71   \n",
       "1                         8704.66                        7799.26   \n",
       "2                         5815.29                        4910.17   \n",
       "3                         2291.91                        2084.54   \n",
       "4                         1401.72                        1643.31   \n",
       "...                           ...                            ...   \n",
       "28377                     1076.43                        2282.19   \n",
       "28378                     4069.21                        3668.83   \n",
       "28379                    61017.55                       53444.81   \n",
       "28380                     1625.55                        1683.20   \n",
       "28381                     2821.34                        3213.44   \n",
       "\n",
       "       average_monthly_balance_prevQ2  current_month_credit  \\\n",
       "0                             1449.07                  0.20   \n",
       "1                            12419.41                  0.56   \n",
       "2                             2815.94                  0.61   \n",
       "3                             1006.54                  0.47   \n",
       "4                             1871.12                  0.33   \n",
       "...                               ...                   ...   \n",
       "28377                         2787.70                  0.30   \n",
       "28378                         3865.55                  1.71   \n",
       "28379                        21925.81               4666.84   \n",
       "28380                         1857.42                  0.20   \n",
       "28381                         4447.45                  0.11   \n",
       "\n",
       "       previous_month_credit  current_month_debit  previous_month_debit  \\\n",
       "0                       0.20                 0.20                  0.20   \n",
       "1                       0.56              5486.27                100.56   \n",
       "2                       0.61              6046.73                259.23   \n",
       "3                       0.47                 0.47               2143.33   \n",
       "4                     714.61               588.62               1538.06   \n",
       "...                      ...                  ...                   ...   \n",
       "28377                   0.30                 0.30                  0.30   \n",
       "28378                   2.29               901.00               1014.07   \n",
       "28379                3883.06               168.23                 71.80   \n",
       "28380                   0.20                 0.20                  0.20   \n",
       "28381                   7.44               714.40               1094.09   \n",
       "\n",
       "       current_month_balance  previous_month_balance  churn  \n",
       "0                    1458.71                 1458.71      0  \n",
       "1                    6496.78                 8787.61      0  \n",
       "2                    5006.28                 5070.14      0  \n",
       "3                    2291.91                 1669.79      1  \n",
       "4                    1157.15                 1677.16      1  \n",
       "...                      ...                     ...    ...  \n",
       "28377                1076.43                 1076.43      0  \n",
       "28378                3738.54                 3690.32      0  \n",
       "28379               61078.50                57564.24      1  \n",
       "28380                1625.55                 1625.55      0  \n",
       "28381                2402.62                 3260.58      1  \n",
       "\n",
       "[28382 rows x 21 columns]"
      ]
     },
     "execution_count": 151,
     "metadata": {},
     "output_type": "execute_result"
    }
   ],
   "source": [
    "df"
   ]
  },
  {
   "cell_type": "code",
   "execution_count": 152,
   "metadata": {},
   "outputs": [
    {
     "data": {
      "text/plain": [
       "customer_id                         int64\n",
       "vintage                             int64\n",
       "age                                 int64\n",
       "gender                            float64\n",
       "dependents                        float64\n",
       "occupation                         object\n",
       "city                               object\n",
       "customer_nw_category                int64\n",
       "branch_code                         int64\n",
       "days_since_last_transaction       float64\n",
       "current_balance                   float64\n",
       "previous_month_end_balance        float64\n",
       "average_monthly_balance_prevQ     float64\n",
       "average_monthly_balance_prevQ2    float64\n",
       "current_month_credit              float64\n",
       "previous_month_credit             float64\n",
       "current_month_debit               float64\n",
       "previous_month_debit              float64\n",
       "current_month_balance             float64\n",
       "previous_month_balance            float64\n",
       "churn                               int64\n",
       "dtype: object"
      ]
     },
     "execution_count": 152,
     "metadata": {},
     "output_type": "execute_result"
    }
   ],
   "source": [
    "df.dtypes"
   ]
  },
  {
   "cell_type": "code",
   "execution_count": null,
   "metadata": {},
   "outputs": [],
   "source": []
  },
  {
   "cell_type": "code",
   "execution_count": 153,
   "metadata": {},
   "outputs": [],
   "source": [
    "# Convert occupation to one hot encoded features\n",
    "df = pd.concat([df,pd.get_dummies(df['occupation'],prefix = str('occupation'),prefix_sep='_')],axis = 1)"
   ]
  },
  {
   "cell_type": "code",
   "execution_count": 154,
   "metadata": {},
   "outputs": [
    {
     "data": {
      "text/plain": [
       "(28382, 26)"
      ]
     },
     "execution_count": 154,
     "metadata": {},
     "output_type": "execute_result"
    }
   ],
   "source": [
    "df.shape"
   ]
  },
  {
   "cell_type": "markdown",
   "metadata": {},
   "source": [
    "# Treating the outliers\n",
    "\n",
    "In the given data we have many outliers. If we go to remove those outliers from the data then we would have remove many rows.Thus instead of that we can use logarithmic transformation and standard scalar to scale down the data and thus we remove outliers."
   ]
  },
  {
   "cell_type": "code",
   "execution_count": 155,
   "metadata": {},
   "outputs": [
    {
     "data": {
      "text/plain": [
       "<matplotlib.axes._subplots.AxesSubplot at 0x240bef206c8>"
      ]
     },
     "execution_count": 155,
     "metadata": {},
     "output_type": "execute_result"
    },
    {
     "data": {
      "image/png": "[encoded data removed]",
      "text/plain": [
       "<Figure size 432x288 with 1 Axes>"
      ]
     },
     "metadata": {
      "needs_background": "light"
     },
     "output_type": "display_data"
    }
   ],
   "source": [
    "df.boxplot()"
   ]
  },
  {
   "cell_type": "code",
   "execution_count": 156,
   "metadata": {},
   "outputs": [],
   "source": [
    "num_cols = ['customer_nw_category', 'current_balance',\n",
    "            'previous_month_end_balance', 'average_monthly_balance_prevQ2', 'average_monthly_balance_prevQ',\n",
    "            'current_month_credit','previous_month_credit', 'current_month_debit', \n",
    "            'previous_month_debit','current_month_balance', 'previous_month_balance']\n",
    "for i in num_cols:\n",
    "    df[i] = np.log(df[i] + 17000)\n",
    "\n",
    "std = StandardScaler()\n",
    "scaled = std.fit_transform(df[num_cols])\n",
    "scaled = pd.DataFrame(scaled,columns=num_cols)"
   ]
  },
  {
   "cell_type": "code",
   "execution_count": 157,
   "metadata": {},
   "outputs": [
    {
     "data": {
      "text/html": [
       "<div>\n",
       "<style scoped>\n",
       "    .dataframe tbody tr th:only-of-type {\n",
       "        vertical-align: middle;\n",
       "    }\n",
       "\n",
       "    .dataframe tbody tr th {\n",
       "        vertical-align: top;\n",
       "    }\n",
       "\n",
       "    .dataframe thead th {\n",
       "        text-align: right;\n",
       "    }\n",
       "</style>\n",
       "<table border=\"1\" class=\"dataframe\">\n",
       "  <thead>\n",
       "    <tr style=\"text-align: right;\">\n",
       "      <th></th>\n",
       "      <th>customer_id</th>\n",
       "      <th>vintage</th>\n",
       "      <th>age</th>\n",
       "      <th>gender</th>\n",
       "      <th>dependents</th>\n",
       "      <th>occupation</th>\n",
       "      <th>city</th>\n",
       "      <th>customer_nw_category</th>\n",
       "      <th>branch_code</th>\n",
       "      <th>days_since_last_transaction</th>\n",
       "      <th>...</th>\n",
       "      <th>current_month_debit</th>\n",
       "      <th>previous_month_debit</th>\n",
       "      <th>current_month_balance</th>\n",
       "      <th>previous_month_balance</th>\n",
       "      <th>churn</th>\n",
       "      <th>occupation_company</th>\n",
       "      <th>occupation_retired</th>\n",
       "      <th>occupation_salaried</th>\n",
       "      <th>occupation_self_employed</th>\n",
       "      <th>occupation_student</th>\n",
       "    </tr>\n",
       "  </thead>\n",
       "  <tbody>\n",
       "    <tr>\n",
       "      <th>0</th>\n",
       "      <td>1</td>\n",
       "      <td>3135</td>\n",
       "      <td>66</td>\n",
       "      <td>1.0</td>\n",
       "      <td>0.0</td>\n",
       "      <td>self_employed</td>\n",
       "      <td>187</td>\n",
       "      <td>9.741086</td>\n",
       "      <td>755</td>\n",
       "      <td>224.0</td>\n",
       "      <td>...</td>\n",
       "      <td>9.740980</td>\n",
       "      <td>9.740980</td>\n",
       "      <td>9.823292</td>\n",
       "      <td>9.823292</td>\n",
       "      <td>0</td>\n",
       "      <td>0</td>\n",
       "      <td>0</td>\n",
       "      <td>0</td>\n",
       "      <td>1</td>\n",
       "      <td>0</td>\n",
       "    </tr>\n",
       "    <tr>\n",
       "      <th>1</th>\n",
       "      <td>2</td>\n",
       "      <td>310</td>\n",
       "      <td>35</td>\n",
       "      <td>1.0</td>\n",
       "      <td>0.0</td>\n",
       "      <td>self_employed</td>\n",
       "      <td>1020</td>\n",
       "      <td>9.741086</td>\n",
       "      <td>3214</td>\n",
       "      <td>60.0</td>\n",
       "      <td>...</td>\n",
       "      <td>10.020660</td>\n",
       "      <td>9.746866</td>\n",
       "      <td>10.064619</td>\n",
       "      <td>10.157649</td>\n",
       "      <td>0</td>\n",
       "      <td>0</td>\n",
       "      <td>0</td>\n",
       "      <td>0</td>\n",
       "      <td>1</td>\n",
       "      <td>0</td>\n",
       "    </tr>\n",
       "    <tr>\n",
       "      <th>2</th>\n",
       "      <td>4</td>\n",
       "      <td>2356</td>\n",
       "      <td>31</td>\n",
       "      <td>1.0</td>\n",
       "      <td>0.0</td>\n",
       "      <td>salaried</td>\n",
       "      <td>146</td>\n",
       "      <td>9.741086</td>\n",
       "      <td>41</td>\n",
       "      <td>999.0</td>\n",
       "      <td>...</td>\n",
       "      <td>10.045279</td>\n",
       "      <td>9.756102</td>\n",
       "      <td>9.999083</td>\n",
       "      <td>10.001981</td>\n",
       "      <td>0</td>\n",
       "      <td>0</td>\n",
       "      <td>0</td>\n",
       "      <td>1</td>\n",
       "      <td>0</td>\n",
       "      <td>0</td>\n",
       "    </tr>\n",
       "    <tr>\n",
       "      <th>3</th>\n",
       "      <td>5</td>\n",
       "      <td>478</td>\n",
       "      <td>90</td>\n",
       "      <td>-1.0</td>\n",
       "      <td>0.0</td>\n",
       "      <td>self_employed</td>\n",
       "      <td>1020</td>\n",
       "      <td>9.741086</td>\n",
       "      <td>582</td>\n",
       "      <td>147.0</td>\n",
       "      <td>...</td>\n",
       "      <td>9.740996</td>\n",
       "      <td>9.859710</td>\n",
       "      <td>9.867441</td>\n",
       "      <td>9.834662</td>\n",
       "      <td>1</td>\n",
       "      <td>0</td>\n",
       "      <td>0</td>\n",
       "      <td>0</td>\n",
       "      <td>1</td>\n",
       "      <td>0</td>\n",
       "    </tr>\n",
       "    <tr>\n",
       "      <th>4</th>\n",
       "      <td>6</td>\n",
       "      <td>2531</td>\n",
       "      <td>42</td>\n",
       "      <td>1.0</td>\n",
       "      <td>2.0</td>\n",
       "      <td>self_employed</td>\n",
       "      <td>1494</td>\n",
       "      <td>9.741145</td>\n",
       "      <td>388</td>\n",
       "      <td>58.0</td>\n",
       "      <td>...</td>\n",
       "      <td>9.775007</td>\n",
       "      <td>9.827581</td>\n",
       "      <td>9.806820</td>\n",
       "      <td>9.835057</td>\n",
       "      <td>1</td>\n",
       "      <td>0</td>\n",
       "      <td>0</td>\n",
       "      <td>0</td>\n",
       "      <td>1</td>\n",
       "      <td>0</td>\n",
       "    </tr>\n",
       "  </tbody>\n",
       "</table>\n",
       "<p>5 rows × 26 columns</p>\n",
       "</div>"
      ],
      "text/plain": [
       "   customer_id  vintage  age  gender  dependents     occupation  city  \\\n",
       "0            1     3135   66     1.0         0.0  self_employed   187   \n",
       "1            2      310   35     1.0         0.0  self_employed  1020   \n",
       "2            4     2356   31     1.0         0.0       salaried   146   \n",
       "3            5      478   90    -1.0         0.0  self_employed  1020   \n",
       "4            6     2531   42     1.0         2.0  self_employed  1494   \n",
       "\n",
       "   customer_nw_category  branch_code  days_since_last_transaction  ...  \\\n",
       "0              9.741086          755                        224.0  ...   \n",
       "1              9.741086         3214                         60.0  ...   \n",
       "2              9.741086           41                        999.0  ...   \n",
       "3              9.741086          582                        147.0  ...   \n",
       "4              9.741145          388                         58.0  ...   \n",
       "\n",
       "   current_month_debit  previous_month_debit  current_month_balance  \\\n",
       "0             9.740980              9.740980               9.823292   \n",
       "1            10.020660              9.746866              10.064619   \n",
       "2            10.045279              9.756102               9.999083   \n",
       "3             9.740996              9.859710               9.867441   \n",
       "4             9.775007              9.827581               9.806820   \n",
       "\n",
       "   previous_month_balance  churn  occupation_company  occupation_retired  \\\n",
       "0                9.823292      0                   0                   0   \n",
       "1               10.157649      0                   0                   0   \n",
       "2               10.001981      0                   0                   0   \n",
       "3                9.834662      1                   0                   0   \n",
       "4                9.835057      1                   0                   0   \n",
       "\n",
       "   occupation_salaried  occupation_self_employed  occupation_student  \n",
       "0                    0                         1                   0  \n",
       "1                    0                         1                   0  \n",
       "2                    1                         0                   0  \n",
       "3                    0                         1                   0  \n",
       "4                    0                         1                   0  \n",
       "\n",
       "[5 rows x 26 columns]"
      ]
     },
     "execution_count": 157,
     "metadata": {},
     "output_type": "execute_result"
    }
   ],
   "source": [
    "df.head()"
   ]
  },
  {
   "cell_type": "code",
   "execution_count": 158,
   "metadata": {},
   "outputs": [
    {
     "data": {
      "text/html": [
       "<div>\n",
       "<style scoped>\n",
       "    .dataframe tbody tr th:only-of-type {\n",
       "        vertical-align: middle;\n",
       "    }\n",
       "\n",
       "    .dataframe tbody tr th {\n",
       "        vertical-align: top;\n",
       "    }\n",
       "\n",
       "    .dataframe thead th {\n",
       "        text-align: right;\n",
       "    }\n",
       "</style>\n",
       "<table border=\"1\" class=\"dataframe\">\n",
       "  <thead>\n",
       "    <tr style=\"text-align: right;\">\n",
       "      <th></th>\n",
       "      <th>customer_id</th>\n",
       "      <th>vintage</th>\n",
       "      <th>age</th>\n",
       "      <th>gender</th>\n",
       "      <th>dependents</th>\n",
       "      <th>customer_nw_category</th>\n",
       "      <th>branch_code</th>\n",
       "      <th>days_since_last_transaction</th>\n",
       "      <th>current_balance</th>\n",
       "      <th>previous_month_end_balance</th>\n",
       "      <th>...</th>\n",
       "      <th>current_month_debit</th>\n",
       "      <th>previous_month_debit</th>\n",
       "      <th>current_month_balance</th>\n",
       "      <th>previous_month_balance</th>\n",
       "      <th>churn</th>\n",
       "      <th>occupation_company</th>\n",
       "      <th>occupation_retired</th>\n",
       "      <th>occupation_salaried</th>\n",
       "      <th>occupation_self_employed</th>\n",
       "      <th>occupation_student</th>\n",
       "    </tr>\n",
       "  </thead>\n",
       "  <tbody>\n",
       "    <tr>\n",
       "      <th>count</th>\n",
       "      <td>28382.000000</td>\n",
       "      <td>28382.000000</td>\n",
       "      <td>28382.000000</td>\n",
       "      <td>28382.000000</td>\n",
       "      <td>28382.000000</td>\n",
       "      <td>28382.000000</td>\n",
       "      <td>28382.000000</td>\n",
       "      <td>28382.000000</td>\n",
       "      <td>28382.000000</td>\n",
       "      <td>28382.000000</td>\n",
       "      <td>...</td>\n",
       "      <td>28382.000000</td>\n",
       "      <td>28382.000000</td>\n",
       "      <td>28382.000000</td>\n",
       "      <td>28382.000000</td>\n",
       "      <td>28382.000000</td>\n",
       "      <td>28382.000000</td>\n",
       "      <td>28382.000000</td>\n",
       "      <td>28382.000000</td>\n",
       "      <td>28382.000000</td>\n",
       "      <td>28382.000000</td>\n",
       "    </tr>\n",
       "    <tr>\n",
       "      <th>mean</th>\n",
       "      <td>15143.508667</td>\n",
       "      <td>2364.336446</td>\n",
       "      <td>48.208336</td>\n",
       "      <td>0.564548</td>\n",
       "      <td>0.317102</td>\n",
       "      <td>9.741100</td>\n",
       "      <td>925.975019</td>\n",
       "      <td>175.493341</td>\n",
       "      <td>10.012905</td>\n",
       "      <td>10.017391</td>\n",
       "      <td>...</td>\n",
       "      <td>9.843030</td>\n",
       "      <td>9.843284</td>\n",
       "      <td>10.019701</td>\n",
       "      <td>10.021842</td>\n",
       "      <td>0.185329</td>\n",
       "      <td>0.001409</td>\n",
       "      <td>0.071313</td>\n",
       "      <td>0.236206</td>\n",
       "      <td>0.618561</td>\n",
       "      <td>0.072511</td>\n",
       "    </tr>\n",
       "    <tr>\n",
       "      <th>std</th>\n",
       "      <td>8746.454456</td>\n",
       "      <td>1610.124506</td>\n",
       "      <td>17.807163</td>\n",
       "      <td>0.531826</td>\n",
       "      <td>0.958386</td>\n",
       "      <td>0.000039</td>\n",
       "      <td>937.799129</td>\n",
       "      <td>305.757315</td>\n",
       "      <td>0.308954</td>\n",
       "      <td>0.306947</td>\n",
       "      <td>...</td>\n",
       "      <td>0.277125</td>\n",
       "      <td>0.271087</td>\n",
       "      <td>0.300577</td>\n",
       "      <td>0.298037</td>\n",
       "      <td>0.388571</td>\n",
       "      <td>0.037515</td>\n",
       "      <td>0.257351</td>\n",
       "      <td>0.424758</td>\n",
       "      <td>0.485748</td>\n",
       "      <td>0.259336</td>\n",
       "    </tr>\n",
       "    <tr>\n",
       "      <th>min</th>\n",
       "      <td>1.000000</td>\n",
       "      <td>180.000000</td>\n",
       "      <td>1.000000</td>\n",
       "      <td>-1.000000</td>\n",
       "      <td>0.000000</td>\n",
       "      <td>9.741027</td>\n",
       "      <td>1.000000</td>\n",
       "      <td>0.000000</td>\n",
       "      <td>9.349758</td>\n",
       "      <td>9.536072</td>\n",
       "      <td>...</td>\n",
       "      <td>9.740969</td>\n",
       "      <td>9.740969</td>\n",
       "      <td>9.519722</td>\n",
       "      <td>9.378232</td>\n",
       "      <td>0.000000</td>\n",
       "      <td>0.000000</td>\n",
       "      <td>0.000000</td>\n",
       "      <td>0.000000</td>\n",
       "      <td>0.000000</td>\n",
       "      <td>0.000000</td>\n",
       "    </tr>\n",
       "    <tr>\n",
       "      <th>25%</th>\n",
       "      <td>7557.250000</td>\n",
       "      <td>1121.000000</td>\n",
       "      <td>36.000000</td>\n",
       "      <td>0.000000</td>\n",
       "      <td>0.000000</td>\n",
       "      <td>9.741086</td>\n",
       "      <td>176.000000</td>\n",
       "      <td>13.000000</td>\n",
       "      <td>9.840786</td>\n",
       "      <td>9.847235</td>\n",
       "      <td>...</td>\n",
       "      <td>9.740993</td>\n",
       "      <td>9.740993</td>\n",
       "      <td>9.852024</td>\n",
       "      <td>9.856103</td>\n",
       "      <td>0.000000</td>\n",
       "      <td>0.000000</td>\n",
       "      <td>0.000000</td>\n",
       "      <td>0.000000</td>\n",
       "      <td>0.000000</td>\n",
       "      <td>0.000000</td>\n",
       "    </tr>\n",
       "    <tr>\n",
       "      <th>50%</th>\n",
       "      <td>15150.500000</td>\n",
       "      <td>2018.000000</td>\n",
       "      <td>46.000000</td>\n",
       "      <td>1.000000</td>\n",
       "      <td>0.000000</td>\n",
       "      <td>9.741086</td>\n",
       "      <td>572.000000</td>\n",
       "      <td>41.000000</td>\n",
       "      <td>9.917452</td>\n",
       "      <td>9.922305</td>\n",
       "      <td>...</td>\n",
       "      <td>9.746362</td>\n",
       "      <td>9.747416</td>\n",
       "      <td>9.925640</td>\n",
       "      <td>9.926483</td>\n",
       "      <td>0.000000</td>\n",
       "      <td>0.000000</td>\n",
       "      <td>0.000000</td>\n",
       "      <td>0.000000</td>\n",
       "      <td>1.000000</td>\n",
       "      <td>0.000000</td>\n",
       "    </tr>\n",
       "    <tr>\n",
       "      <th>75%</th>\n",
       "      <td>22706.750000</td>\n",
       "      <td>3176.000000</td>\n",
       "      <td>60.000000</td>\n",
       "      <td>1.000000</td>\n",
       "      <td>0.000000</td>\n",
       "      <td>9.741145</td>\n",
       "      <td>1440.000000</td>\n",
       "      <td>154.000000</td>\n",
       "      <td>10.070519</td>\n",
       "      <td>10.071395</td>\n",
       "      <td>...</td>\n",
       "      <td>9.817953</td>\n",
       "      <td>9.817796</td>\n",
       "      <td>10.071877</td>\n",
       "      <td>10.071317</td>\n",
       "      <td>0.000000</td>\n",
       "      <td>0.000000</td>\n",
       "      <td>0.000000</td>\n",
       "      <td>0.000000</td>\n",
       "      <td>1.000000</td>\n",
       "      <td>0.000000</td>\n",
       "    </tr>\n",
       "    <tr>\n",
       "      <th>max</th>\n",
       "      <td>30301.000000</td>\n",
       "      <td>12899.000000</td>\n",
       "      <td>90.000000</td>\n",
       "      <td>1.000000</td>\n",
       "      <td>52.000000</td>\n",
       "      <td>9.741145</td>\n",
       "      <td>4782.000000</td>\n",
       "      <td>999.000000</td>\n",
       "      <td>15.594337</td>\n",
       "      <td>15.566003</td>\n",
       "      <td>...</td>\n",
       "      <td>15.850851</td>\n",
       "      <td>14.174001</td>\n",
       "      <td>15.572538</td>\n",
       "      <td>15.562472</td>\n",
       "      <td>1.000000</td>\n",
       "      <td>1.000000</td>\n",
       "      <td>1.000000</td>\n",
       "      <td>1.000000</td>\n",
       "      <td>1.000000</td>\n",
       "      <td>1.000000</td>\n",
       "    </tr>\n",
       "  </tbody>\n",
       "</table>\n",
       "<p>8 rows × 24 columns</p>\n",
       "</div>"
      ],
      "text/plain": [
       "        customer_id       vintage           age        gender    dependents  \\\n",
       "count  28382.000000  28382.000000  28382.000000  28382.000000  28382.000000   \n",
       "mean   15143.508667   2364.336446     48.208336      0.564548      0.317102   \n",
       "std     8746.454456   1610.124506     17.807163      0.531826      0.958386   \n",
       "min        1.000000    180.000000      1.000000     -1.000000      0.000000   \n",
       "25%     7557.250000   1121.000000     36.000000      0.000000      0.000000   \n",
       "50%    15150.500000   2018.000000     46.000000      1.000000      0.000000   \n",
       "75%    22706.750000   3176.000000     60.000000      1.000000      0.000000   \n",
       "max    30301.000000  12899.000000     90.000000      1.000000     52.000000   \n",
       "\n",
       "       customer_nw_category   branch_code  days_since_last_transaction  \\\n",
       "count          28382.000000  28382.000000                 28382.000000   \n",
       "mean               9.741100    925.975019                   175.493341   \n",
       "std                0.000039    937.799129                   305.757315   \n",
       "min                9.741027      1.000000                     0.000000   \n",
       "25%                9.741086    176.000000                    13.000000   \n",
       "50%                9.741086    572.000000                    41.000000   \n",
       "75%                9.741145   1440.000000                   154.000000   \n",
       "max                9.741145   4782.000000                   999.000000   \n",
       "\n",
       "       current_balance  previous_month_end_balance  ...  current_month_debit  \\\n",
       "count     28382.000000                28382.000000  ...         28382.000000   \n",
       "mean         10.012905                   10.017391  ...             9.843030   \n",
       "std           0.308954                    0.306947  ...             0.277125   \n",
       "min           9.349758                    9.536072  ...             9.740969   \n",
       "25%           9.840786                    9.847235  ...             9.740993   \n",
       "50%           9.917452                    9.922305  ...             9.746362   \n",
       "75%          10.070519                   10.071395  ...             9.817953   \n",
       "max          15.594337                   15.566003  ...            15.850851   \n",
       "\n",
       "       previous_month_debit  current_month_balance  previous_month_balance  \\\n",
       "count          28382.000000           28382.000000            28382.000000   \n",
       "mean               9.843284              10.019701               10.021842   \n",
       "std                0.271087               0.300577                0.298037   \n",
       "min                9.740969               9.519722                9.378232   \n",
       "25%                9.740993               9.852024                9.856103   \n",
       "50%                9.747416               9.925640                9.926483   \n",
       "75%                9.817796              10.071877               10.071317   \n",
       "max               14.174001              15.572538               15.562472   \n",
       "\n",
       "              churn  occupation_company  occupation_retired  \\\n",
       "count  28382.000000        28382.000000        28382.000000   \n",
       "mean       0.185329            0.001409            0.071313   \n",
       "std        0.388571            0.037515            0.257351   \n",
       "min        0.000000            0.000000            0.000000   \n",
       "25%        0.000000            0.000000            0.000000   \n",
       "50%        0.000000            0.000000            0.000000   \n",
       "75%        0.000000            0.000000            0.000000   \n",
       "max        1.000000            1.000000            1.000000   \n",
       "\n",
       "       occupation_salaried  occupation_self_employed  occupation_student  \n",
       "count         28382.000000              28382.000000        28382.000000  \n",
       "mean              0.236206                  0.618561            0.072511  \n",
       "std               0.424758                  0.485748            0.259336  \n",
       "min               0.000000                  0.000000            0.000000  \n",
       "25%               0.000000                  0.000000            0.000000  \n",
       "50%               0.000000                  1.000000            0.000000  \n",
       "75%               0.000000                  1.000000            0.000000  \n",
       "max               1.000000                  1.000000            1.000000  \n",
       "\n",
       "[8 rows x 24 columns]"
      ]
     },
     "execution_count": 158,
     "metadata": {},
     "output_type": "execute_result"
    }
   ],
   "source": [
    "df.describe()"
   ]
  },
  {
   "cell_type": "code",
   "execution_count": 159,
   "metadata": {},
   "outputs": [
    {
     "data": {
      "text/plain": [
       "<matplotlib.axes._subplots.AxesSubplot at 0x240bf534fc8>"
      ]
     },
     "execution_count": 159,
     "metadata": {},
     "output_type": "execute_result"
    },
    {
     "data": {
      "image/png": "[encoded data removed]",
      "text/plain": [
       "<Figure size 432x288 with 1 Axes>"
      ]
     },
     "metadata": {
      "needs_background": "light"
     },
     "output_type": "display_data"
    }
   ],
   "source": [
    "df.boxplot()"
   ]
  },
  {
   "cell_type": "code",
   "execution_count": 160,
   "metadata": {},
   "outputs": [
    {
     "data": {
      "text/html": [
       "<div>\n",
       "<style scoped>\n",
       "    .dataframe tbody tr th:only-of-type {\n",
       "        vertical-align: middle;\n",
       "    }\n",
       "\n",
       "    .dataframe tbody tr th {\n",
       "        vertical-align: top;\n",
       "    }\n",
       "\n",
       "    .dataframe thead th {\n",
       "        text-align: right;\n",
       "    }\n",
       "</style>\n",
       "<table border=\"1\" class=\"dataframe\">\n",
       "  <thead>\n",
       "    <tr style=\"text-align: right;\">\n",
       "      <th></th>\n",
       "      <th>customer_id</th>\n",
       "      <th>vintage</th>\n",
       "      <th>age</th>\n",
       "      <th>gender</th>\n",
       "      <th>dependents</th>\n",
       "      <th>occupation</th>\n",
       "      <th>city</th>\n",
       "      <th>customer_nw_category</th>\n",
       "      <th>branch_code</th>\n",
       "      <th>days_since_last_transaction</th>\n",
       "      <th>...</th>\n",
       "      <th>current_month_debit</th>\n",
       "      <th>previous_month_debit</th>\n",
       "      <th>current_month_balance</th>\n",
       "      <th>previous_month_balance</th>\n",
       "      <th>churn</th>\n",
       "      <th>occupation_company</th>\n",
       "      <th>occupation_retired</th>\n",
       "      <th>occupation_salaried</th>\n",
       "      <th>occupation_self_employed</th>\n",
       "      <th>occupation_student</th>\n",
       "    </tr>\n",
       "  </thead>\n",
       "  <tbody>\n",
       "    <tr>\n",
       "      <th>9908</th>\n",
       "      <td>10575</td>\n",
       "      <td>1670</td>\n",
       "      <td>90</td>\n",
       "      <td>-1.0</td>\n",
       "      <td>0.0</td>\n",
       "      <td>self_employed</td>\n",
       "      <td>243</td>\n",
       "      <td>9.741086</td>\n",
       "      <td>2542</td>\n",
       "      <td>18.0</td>\n",
       "      <td>...</td>\n",
       "      <td>10.443695</td>\n",
       "      <td>10.441392</td>\n",
       "      <td>15.572538</td>\n",
       "      <td>15.562472</td>\n",
       "      <td>0</td>\n",
       "      <td>0</td>\n",
       "      <td>0</td>\n",
       "      <td>0</td>\n",
       "      <td>1</td>\n",
       "      <td>0</td>\n",
       "    </tr>\n",
       "    <tr>\n",
       "      <th>10955</th>\n",
       "      <td>11709</td>\n",
       "      <td>521</td>\n",
       "      <td>90</td>\n",
       "      <td>-1.0</td>\n",
       "      <td>0.0</td>\n",
       "      <td>self_employed</td>\n",
       "      <td>1341</td>\n",
       "      <td>9.741086</td>\n",
       "      <td>2688</td>\n",
       "      <td>11.0</td>\n",
       "      <td>...</td>\n",
       "      <td>9.740973</td>\n",
       "      <td>9.740973</td>\n",
       "      <td>13.647323</td>\n",
       "      <td>13.285619</td>\n",
       "      <td>0</td>\n",
       "      <td>0</td>\n",
       "      <td>0</td>\n",
       "      <td>0</td>\n",
       "      <td>1</td>\n",
       "      <td>0</td>\n",
       "    </tr>\n",
       "    <tr>\n",
       "      <th>12712</th>\n",
       "      <td>13575</td>\n",
       "      <td>2418</td>\n",
       "      <td>73</td>\n",
       "      <td>0.0</td>\n",
       "      <td>0.0</td>\n",
       "      <td>self_employed</td>\n",
       "      <td>834</td>\n",
       "      <td>9.741086</td>\n",
       "      <td>469</td>\n",
       "      <td>0.0</td>\n",
       "      <td>...</td>\n",
       "      <td>12.356911</td>\n",
       "      <td>13.279457</td>\n",
       "      <td>13.834063</td>\n",
       "      <td>14.110779</td>\n",
       "      <td>0</td>\n",
       "      <td>0</td>\n",
       "      <td>0</td>\n",
       "      <td>0</td>\n",
       "      <td>1</td>\n",
       "      <td>0</td>\n",
       "    </tr>\n",
       "    <tr>\n",
       "      <th>19977</th>\n",
       "      <td>21317</td>\n",
       "      <td>842</td>\n",
       "      <td>1</td>\n",
       "      <td>1.0</td>\n",
       "      <td>0.0</td>\n",
       "      <td>self_employed</td>\n",
       "      <td>105</td>\n",
       "      <td>9.741086</td>\n",
       "      <td>650</td>\n",
       "      <td>18.0</td>\n",
       "      <td>...</td>\n",
       "      <td>11.973059</td>\n",
       "      <td>13.285211</td>\n",
       "      <td>13.903178</td>\n",
       "      <td>13.431148</td>\n",
       "      <td>1</td>\n",
       "      <td>0</td>\n",
       "      <td>0</td>\n",
       "      <td>0</td>\n",
       "      <td>1</td>\n",
       "      <td>0</td>\n",
       "    </tr>\n",
       "    <tr>\n",
       "      <th>23211</th>\n",
       "      <td>24764</td>\n",
       "      <td>2560</td>\n",
       "      <td>90</td>\n",
       "      <td>-1.0</td>\n",
       "      <td>0.0</td>\n",
       "      <td>self_employed</td>\n",
       "      <td>751</td>\n",
       "      <td>9.741086</td>\n",
       "      <td>138</td>\n",
       "      <td>108.0</td>\n",
       "      <td>...</td>\n",
       "      <td>12.457366</td>\n",
       "      <td>11.634929</td>\n",
       "      <td>14.078919</td>\n",
       "      <td>14.279139</td>\n",
       "      <td>1</td>\n",
       "      <td>0</td>\n",
       "      <td>0</td>\n",
       "      <td>0</td>\n",
       "      <td>1</td>\n",
       "      <td>0</td>\n",
       "    </tr>\n",
       "    <tr>\n",
       "      <th>23247</th>\n",
       "      <td>24807</td>\n",
       "      <td>1732</td>\n",
       "      <td>90</td>\n",
       "      <td>1.0</td>\n",
       "      <td>0.0</td>\n",
       "      <td>self_employed</td>\n",
       "      <td>1294</td>\n",
       "      <td>9.741086</td>\n",
       "      <td>150</td>\n",
       "      <td>999.0</td>\n",
       "      <td>...</td>\n",
       "      <td>9.740987</td>\n",
       "      <td>9.740987</td>\n",
       "      <td>14.162984</td>\n",
       "      <td>14.162984</td>\n",
       "      <td>0</td>\n",
       "      <td>0</td>\n",
       "      <td>0</td>\n",
       "      <td>0</td>\n",
       "      <td>1</td>\n",
       "      <td>0</td>\n",
       "    </tr>\n",
       "    <tr>\n",
       "      <th>27856</th>\n",
       "      <td>29735</td>\n",
       "      <td>194</td>\n",
       "      <td>90</td>\n",
       "      <td>1.0</td>\n",
       "      <td>0.0</td>\n",
       "      <td>self_employed</td>\n",
       "      <td>904</td>\n",
       "      <td>9.741027</td>\n",
       "      <td>296</td>\n",
       "      <td>213.0</td>\n",
       "      <td>...</td>\n",
       "      <td>9.740983</td>\n",
       "      <td>9.740983</td>\n",
       "      <td>14.189053</td>\n",
       "      <td>14.189053</td>\n",
       "      <td>0</td>\n",
       "      <td>0</td>\n",
       "      <td>0</td>\n",
       "      <td>0</td>\n",
       "      <td>1</td>\n",
       "      <td>0</td>\n",
       "    </tr>\n",
       "    <tr>\n",
       "      <th>28249</th>\n",
       "      <td>30160</td>\n",
       "      <td>4395</td>\n",
       "      <td>44</td>\n",
       "      <td>1.0</td>\n",
       "      <td>0.0</td>\n",
       "      <td>salaried</td>\n",
       "      <td>1096</td>\n",
       "      <td>9.741027</td>\n",
       "      <td>578</td>\n",
       "      <td>18.0</td>\n",
       "      <td>...</td>\n",
       "      <td>12.154029</td>\n",
       "      <td>11.955542</td>\n",
       "      <td>13.707511</td>\n",
       "      <td>13.726949</td>\n",
       "      <td>0</td>\n",
       "      <td>0</td>\n",
       "      <td>0</td>\n",
       "      <td>1</td>\n",
       "      <td>0</td>\n",
       "      <td>0</td>\n",
       "    </tr>\n",
       "  </tbody>\n",
       "</table>\n",
       "<p>8 rows × 26 columns</p>\n",
       "</div>"
      ],
      "text/plain": [
       "       customer_id  vintage  age  gender  dependents     occupation  city  \\\n",
       "9908         10575     1670   90    -1.0         0.0  self_employed   243   \n",
       "10955        11709      521   90    -1.0         0.0  self_employed  1341   \n",
       "12712        13575     2418   73     0.0         0.0  self_employed   834   \n",
       "19977        21317      842    1     1.0         0.0  self_employed   105   \n",
       "23211        24764     2560   90    -1.0         0.0  self_employed   751   \n",
       "23247        24807     1732   90     1.0         0.0  self_employed  1294   \n",
       "27856        29735      194   90     1.0         0.0  self_employed   904   \n",
       "28249        30160     4395   44     1.0         0.0       salaried  1096   \n",
       "\n",
       "       customer_nw_category  branch_code  days_since_last_transaction  ...  \\\n",
       "9908               9.741086         2542                         18.0  ...   \n",
       "10955              9.741086         2688                         11.0  ...   \n",
       "12712              9.741086          469                          0.0  ...   \n",
       "19977              9.741086          650                         18.0  ...   \n",
       "23211              9.741086          138                        108.0  ...   \n",
       "23247              9.741086          150                        999.0  ...   \n",
       "27856              9.741027          296                        213.0  ...   \n",
       "28249              9.741027          578                         18.0  ...   \n",
       "\n",
       "       current_month_debit  previous_month_debit  current_month_balance  \\\n",
       "9908             10.443695             10.441392              15.572538   \n",
       "10955             9.740973              9.740973              13.647323   \n",
       "12712            12.356911             13.279457              13.834063   \n",
       "19977            11.973059             13.285211              13.903178   \n",
       "23211            12.457366             11.634929              14.078919   \n",
       "23247             9.740987              9.740987              14.162984   \n",
       "27856             9.740983              9.740983              14.189053   \n",
       "28249            12.154029             11.955542              13.707511   \n",
       "\n",
       "       previous_month_balance  churn  occupation_company  occupation_retired  \\\n",
       "9908                15.562472      0                   0                   0   \n",
       "10955               13.285619      0                   0                   0   \n",
       "12712               14.110779      0                   0                   0   \n",
       "19977               13.431148      1                   0                   0   \n",
       "23211               14.279139      1                   0                   0   \n",
       "23247               14.162984      0                   0                   0   \n",
       "27856               14.189053      0                   0                   0   \n",
       "28249               13.726949      0                   0                   0   \n",
       "\n",
       "       occupation_salaried  occupation_self_employed  occupation_student  \n",
       "9908                     0                         1                   0  \n",
       "10955                    0                         1                   0  \n",
       "12712                    0                         1                   0  \n",
       "19977                    0                         1                   0  \n",
       "23211                    0                         1                   0  \n",
       "23247                    0                         1                   0  \n",
       "27856                    0                         1                   0  \n",
       "28249                    1                         0                   0  \n",
       "\n",
       "[8 rows x 26 columns]"
      ]
     },
     "execution_count": 160,
     "metadata": {},
     "output_type": "execute_result"
    }
   ],
   "source": [
    "df[df['current_balance']>13.5]"
   ]
  },
  {
   "cell_type": "code",
   "execution_count": 161,
   "metadata": {},
   "outputs": [],
   "source": [
    "df = df[df['current_balance']<13.5]"
   ]
  },
  {
   "cell_type": "code",
   "execution_count": 162,
   "metadata": {},
   "outputs": [
    {
     "data": {
      "text/html": [
       "<div>\n",
       "<style scoped>\n",
       "    .dataframe tbody tr th:only-of-type {\n",
       "        vertical-align: middle;\n",
       "    }\n",
       "\n",
       "    .dataframe tbody tr th {\n",
       "        vertical-align: top;\n",
       "    }\n",
       "\n",
       "    .dataframe thead th {\n",
       "        text-align: right;\n",
       "    }\n",
       "</style>\n",
       "<table border=\"1\" class=\"dataframe\">\n",
       "  <thead>\n",
       "    <tr style=\"text-align: right;\">\n",
       "      <th></th>\n",
       "      <th>customer_id</th>\n",
       "      <th>vintage</th>\n",
       "      <th>age</th>\n",
       "      <th>gender</th>\n",
       "      <th>dependents</th>\n",
       "      <th>occupation</th>\n",
       "      <th>city</th>\n",
       "      <th>customer_nw_category</th>\n",
       "      <th>branch_code</th>\n",
       "      <th>days_since_last_transaction</th>\n",
       "      <th>...</th>\n",
       "      <th>current_month_debit</th>\n",
       "      <th>previous_month_debit</th>\n",
       "      <th>current_month_balance</th>\n",
       "      <th>previous_month_balance</th>\n",
       "      <th>churn</th>\n",
       "      <th>occupation_company</th>\n",
       "      <th>occupation_retired</th>\n",
       "      <th>occupation_salaried</th>\n",
       "      <th>occupation_self_employed</th>\n",
       "      <th>occupation_student</th>\n",
       "    </tr>\n",
       "  </thead>\n",
       "  <tbody>\n",
       "  </tbody>\n",
       "</table>\n",
       "<p>0 rows × 26 columns</p>\n",
       "</div>"
      ],
      "text/plain": [
       "Empty DataFrame\n",
       "Columns: [customer_id, vintage, age, gender, dependents, occupation, city, customer_nw_category, branch_code, days_since_last_transaction, current_balance, previous_month_end_balance, average_monthly_balance_prevQ, average_monthly_balance_prevQ2, current_month_credit, previous_month_credit, current_month_debit, previous_month_debit, current_month_balance, previous_month_balance, churn, occupation_company, occupation_retired, occupation_salaried, occupation_self_employed, occupation_student]\n",
       "Index: []\n",
       "\n",
       "[0 rows x 26 columns]"
      ]
     },
     "execution_count": 162,
     "metadata": {},
     "output_type": "execute_result"
    }
   ],
   "source": [
    "df[df['current_balance']>13.5]"
   ]
  },
  {
   "cell_type": "code",
   "execution_count": 163,
   "metadata": {},
   "outputs": [
    {
     "data": {
      "text/plain": [
       "customer_id                         int64\n",
       "vintage                             int64\n",
       "age                                 int64\n",
       "gender                            float64\n",
       "dependents                        float64\n",
       "occupation                         object\n",
       "city                               object\n",
       "customer_nw_category              float64\n",
       "branch_code                         int64\n",
       "days_since_last_transaction       float64\n",
       "current_balance                   float64\n",
       "previous_month_end_balance        float64\n",
       "average_monthly_balance_prevQ     float64\n",
       "average_monthly_balance_prevQ2    float64\n",
       "current_month_credit              float64\n",
       "previous_month_credit             float64\n",
       "current_month_debit               float64\n",
       "previous_month_debit              float64\n",
       "current_month_balance             float64\n",
       "previous_month_balance            float64\n",
       "churn                               int64\n",
       "occupation_company                  uint8\n",
       "occupation_retired                  uint8\n",
       "occupation_salaried                 uint8\n",
       "occupation_self_employed            uint8\n",
       "occupation_student                  uint8\n",
       "dtype: object"
      ]
     },
     "execution_count": 163,
     "metadata": {},
     "output_type": "execute_result"
    }
   ],
   "source": [
    "df.dtypes"
   ]
  },
  {
   "cell_type": "code",
   "execution_count": 164,
   "metadata": {},
   "outputs": [
    {
     "data": {
      "text/html": [
       "<div>\n",
       "<style scoped>\n",
       "    .dataframe tbody tr th:only-of-type {\n",
       "        vertical-align: middle;\n",
       "    }\n",
       "\n",
       "    .dataframe tbody tr th {\n",
       "        vertical-align: top;\n",
       "    }\n",
       "\n",
       "    .dataframe thead th {\n",
       "        text-align: right;\n",
       "    }\n",
       "</style>\n",
       "<table border=\"1\" class=\"dataframe\">\n",
       "  <thead>\n",
       "    <tr style=\"text-align: right;\">\n",
       "      <th></th>\n",
       "      <th>customer_id</th>\n",
       "      <th>vintage</th>\n",
       "      <th>age</th>\n",
       "      <th>gender</th>\n",
       "      <th>dependents</th>\n",
       "      <th>occupation</th>\n",
       "      <th>city</th>\n",
       "      <th>customer_nw_category</th>\n",
       "      <th>branch_code</th>\n",
       "      <th>days_since_last_transaction</th>\n",
       "      <th>...</th>\n",
       "      <th>current_month_debit</th>\n",
       "      <th>previous_month_debit</th>\n",
       "      <th>current_month_balance</th>\n",
       "      <th>previous_month_balance</th>\n",
       "      <th>churn</th>\n",
       "      <th>occupation_company</th>\n",
       "      <th>occupation_retired</th>\n",
       "      <th>occupation_salaried</th>\n",
       "      <th>occupation_self_employed</th>\n",
       "      <th>occupation_student</th>\n",
       "    </tr>\n",
       "  </thead>\n",
       "  <tbody>\n",
       "  </tbody>\n",
       "</table>\n",
       "<p>0 rows × 26 columns</p>\n",
       "</div>"
      ],
      "text/plain": [
       "Empty DataFrame\n",
       "Columns: [customer_id, vintage, age, gender, dependents, occupation, city, customer_nw_category, branch_code, days_since_last_transaction, current_balance, previous_month_end_balance, average_monthly_balance_prevQ, average_monthly_balance_prevQ2, current_month_credit, previous_month_credit, current_month_debit, previous_month_debit, current_month_balance, previous_month_balance, churn, occupation_company, occupation_retired, occupation_salaried, occupation_self_employed, occupation_student]\n",
       "Index: []\n",
       "\n",
       "[0 rows x 26 columns]"
      ]
     },
     "execution_count": 164,
     "metadata": {},
     "output_type": "execute_result"
    }
   ],
   "source": [
    "df[df['current_balance']>13.5]"
   ]
  },
  {
   "cell_type": "code",
   "execution_count": 165,
   "metadata": {},
   "outputs": [
    {
     "data": {
      "text/plain": [
       "<matplotlib.axes._subplots.AxesSubplot at 0x240bbae8f48>"
      ]
     },
     "execution_count": 165,
     "metadata": {},
     "output_type": "execute_result"
    },
    {
     "data": {
      "image/png": "[encoded data removed]",
      "text/plain": [
       "<Figure size 432x288 with 1 Axes>"
      ]
     },
     "metadata": {
      "needs_background": "light"
     },
     "output_type": "display_data"
    }
   ],
   "source": [
    "df.boxplot()"
   ]
  },
  {
   "cell_type": "code",
   "execution_count": 166,
   "metadata": {},
   "outputs": [
    {
     "data": {
      "text/plain": [
       "<matplotlib.axes._subplots.AxesSubplot at 0x240c2209e48>"
      ]
     },
     "execution_count": 166,
     "metadata": {},
     "output_type": "execute_result"
    },
    {
     "data": {
      "image/png": "[encoded data removed]",
      "text/plain": [
       "<Figure size 432x288 with 1 Axes>"
      ]
     },
     "metadata": {
      "needs_background": "light"
     },
     "output_type": "display_data"
    }
   ],
   "source": [
    "df.boxplot('current_balance')"
   ]
  },
  {
   "cell_type": "code",
   "execution_count": 167,
   "metadata": {},
   "outputs": [
    {
     "data": {
      "text/plain": [
       "(28374, 26)"
      ]
     },
     "execution_count": 167,
     "metadata": {},
     "output_type": "execute_result"
    }
   ],
   "source": [
    "df.shape"
   ]
  },
  {
   "cell_type": "code",
   "execution_count": 168,
   "metadata": {},
   "outputs": [
    {
     "data": {
      "text/plain": [
       "<matplotlib.axes._subplots.AxesSubplot at 0x240c22c7788>"
      ]
     },
     "execution_count": 168,
     "metadata": {},
     "output_type": "execute_result"
    },
    {
     "data": {
      "image/png": "[encoded data removed]",
      "text/plain": [
       "<Figure size 432x288 with 1 Axes>"
      ]
     },
     "metadata": {
      "needs_background": "light"
     },
     "output_type": "display_data"
    }
   ],
   "source": [
    "df.boxplot()"
   ]
  },
  {
   "cell_type": "code",
   "execution_count": 169,
   "metadata": {},
   "outputs": [
    {
     "data": {
      "text/plain": [
       "Index(['customer_id', 'vintage', 'age', 'gender', 'dependents', 'occupation',\n",
       "       'city', 'customer_nw_category', 'branch_code',\n",
       "       'days_since_last_transaction', 'current_balance',\n",
       "       'previous_month_end_balance', 'average_monthly_balance_prevQ',\n",
       "       'average_monthly_balance_prevQ2', 'current_month_credit',\n",
       "       'previous_month_credit', 'current_month_debit', 'previous_month_debit',\n",
       "       'current_month_balance', 'previous_month_balance', 'churn',\n",
       "       'occupation_company', 'occupation_retired', 'occupation_salaried',\n",
       "       'occupation_self_employed', 'occupation_student'],\n",
       "      dtype='object')"
      ]
     },
     "execution_count": 169,
     "metadata": {},
     "output_type": "execute_result"
    }
   ],
   "source": [
    "df.columns"
   ]
  },
  {
   "cell_type": "code",
   "execution_count": 170,
   "metadata": {},
   "outputs": [
    {
     "data": {
      "text/plain": [
       "<matplotlib.axes._subplots.AxesSubplot at 0x240c2e47f48>"
      ]
     },
     "execution_count": 170,
     "metadata": {},
     "output_type": "execute_result"
    },
    {
     "data": {
      "image/png": "[encoded data removed]",
      "text/plain": [
       "<Figure size 432x288 with 1 Axes>"
      ]
     },
     "metadata": {
      "needs_background": "light"
     },
     "output_type": "display_data"
    }
   ],
   "source": [
    "df.boxplot('average_monthly_balance_prevQ2')"
   ]
  },
  {
   "cell_type": "code",
   "execution_count": 171,
   "metadata": {},
   "outputs": [],
   "source": [
    "df = df[df['average_monthly_balance_prevQ2']<14]"
   ]
  },
  {
   "cell_type": "code",
   "execution_count": 172,
   "metadata": {},
   "outputs": [
    {
     "data": {
      "text/plain": [
       "<matplotlib.axes._subplots.AxesSubplot at 0x240bf5426c8>"
      ]
     },
     "execution_count": 172,
     "metadata": {},
     "output_type": "execute_result"
    },
    {
     "data": {
      "image/png": "[encoded data removed]",
      "text/plain": [
       "<Figure size 432x288 with 1 Axes>"
      ]
     },
     "metadata": {
      "needs_background": "light"
     },
     "output_type": "display_data"
    }
   ],
   "source": [
    "df.boxplot('average_monthly_balance_prevQ2')"
   ]
  },
  {
   "cell_type": "code",
   "execution_count": 173,
   "metadata": {},
   "outputs": [
    {
     "data": {
      "text/plain": [
       "<matplotlib.axes._subplots.AxesSubplot at 0x240bf203ec8>"
      ]
     },
     "execution_count": 173,
     "metadata": {},
     "output_type": "execute_result"
    },
    {
     "data": {
      "image/png": "[encoded data removed]",
      "text/plain": [
       "<Figure size 432x288 with 1 Axes>"
      ]
     },
     "metadata": {
      "needs_background": "light"
     },
     "output_type": "display_data"
    }
   ],
   "source": [
    "df.boxplot()"
   ]
  },
  {
   "cell_type": "code",
   "execution_count": 51,
   "metadata": {},
   "outputs": [],
   "source": [
    "df.to_csv(\"data_cleaned_churn.csv\")"
   ]
  },
  {
   "cell_type": "code",
   "execution_count": 174,
   "metadata": {},
   "outputs": [
    {
     "data": {
      "text/html": [
       "<div>\n",
       "<style scoped>\n",
       "    .dataframe tbody tr th:only-of-type {\n",
       "        vertical-align: middle;\n",
       "    }\n",
       "\n",
       "    .dataframe tbody tr th {\n",
       "        vertical-align: top;\n",
       "    }\n",
       "\n",
       "    .dataframe thead th {\n",
       "        text-align: right;\n",
       "    }\n",
       "</style>\n",
       "<table border=\"1\" class=\"dataframe\">\n",
       "  <thead>\n",
       "    <tr style=\"text-align: right;\">\n",
       "      <th></th>\n",
       "      <th>customer_id</th>\n",
       "      <th>vintage</th>\n",
       "      <th>age</th>\n",
       "      <th>gender</th>\n",
       "      <th>dependents</th>\n",
       "      <th>occupation</th>\n",
       "      <th>city</th>\n",
       "      <th>customer_nw_category</th>\n",
       "      <th>branch_code</th>\n",
       "      <th>days_since_last_transaction</th>\n",
       "      <th>...</th>\n",
       "      <th>current_month_debit</th>\n",
       "      <th>previous_month_debit</th>\n",
       "      <th>current_month_balance</th>\n",
       "      <th>previous_month_balance</th>\n",
       "      <th>churn</th>\n",
       "      <th>occupation_company</th>\n",
       "      <th>occupation_retired</th>\n",
       "      <th>occupation_salaried</th>\n",
       "      <th>occupation_self_employed</th>\n",
       "      <th>occupation_student</th>\n",
       "    </tr>\n",
       "  </thead>\n",
       "  <tbody>\n",
       "    <tr>\n",
       "      <th>0</th>\n",
       "      <td>1</td>\n",
       "      <td>3135</td>\n",
       "      <td>66</td>\n",
       "      <td>1.0</td>\n",
       "      <td>0.0</td>\n",
       "      <td>self_employed</td>\n",
       "      <td>187</td>\n",
       "      <td>9.741086</td>\n",
       "      <td>755</td>\n",
       "      <td>224.0</td>\n",
       "      <td>...</td>\n",
       "      <td>9.740980</td>\n",
       "      <td>9.740980</td>\n",
       "      <td>9.823292</td>\n",
       "      <td>9.823292</td>\n",
       "      <td>0</td>\n",
       "      <td>0</td>\n",
       "      <td>0</td>\n",
       "      <td>0</td>\n",
       "      <td>1</td>\n",
       "      <td>0</td>\n",
       "    </tr>\n",
       "    <tr>\n",
       "      <th>1</th>\n",
       "      <td>2</td>\n",
       "      <td>310</td>\n",
       "      <td>35</td>\n",
       "      <td>1.0</td>\n",
       "      <td>0.0</td>\n",
       "      <td>self_employed</td>\n",
       "      <td>1020</td>\n",
       "      <td>9.741086</td>\n",
       "      <td>3214</td>\n",
       "      <td>60.0</td>\n",
       "      <td>...</td>\n",
       "      <td>10.020660</td>\n",
       "      <td>9.746866</td>\n",
       "      <td>10.064619</td>\n",
       "      <td>10.157649</td>\n",
       "      <td>0</td>\n",
       "      <td>0</td>\n",
       "      <td>0</td>\n",
       "      <td>0</td>\n",
       "      <td>1</td>\n",
       "      <td>0</td>\n",
       "    </tr>\n",
       "    <tr>\n",
       "      <th>2</th>\n",
       "      <td>4</td>\n",
       "      <td>2356</td>\n",
       "      <td>31</td>\n",
       "      <td>1.0</td>\n",
       "      <td>0.0</td>\n",
       "      <td>salaried</td>\n",
       "      <td>146</td>\n",
       "      <td>9.741086</td>\n",
       "      <td>41</td>\n",
       "      <td>999.0</td>\n",
       "      <td>...</td>\n",
       "      <td>10.045279</td>\n",
       "      <td>9.756102</td>\n",
       "      <td>9.999083</td>\n",
       "      <td>10.001981</td>\n",
       "      <td>0</td>\n",
       "      <td>0</td>\n",
       "      <td>0</td>\n",
       "      <td>1</td>\n",
       "      <td>0</td>\n",
       "      <td>0</td>\n",
       "    </tr>\n",
       "    <tr>\n",
       "      <th>3</th>\n",
       "      <td>5</td>\n",
       "      <td>478</td>\n",
       "      <td>90</td>\n",
       "      <td>-1.0</td>\n",
       "      <td>0.0</td>\n",
       "      <td>self_employed</td>\n",
       "      <td>1020</td>\n",
       "      <td>9.741086</td>\n",
       "      <td>582</td>\n",
       "      <td>147.0</td>\n",
       "      <td>...</td>\n",
       "      <td>9.740996</td>\n",
       "      <td>9.859710</td>\n",
       "      <td>9.867441</td>\n",
       "      <td>9.834662</td>\n",
       "      <td>1</td>\n",
       "      <td>0</td>\n",
       "      <td>0</td>\n",
       "      <td>0</td>\n",
       "      <td>1</td>\n",
       "      <td>0</td>\n",
       "    </tr>\n",
       "    <tr>\n",
       "      <th>4</th>\n",
       "      <td>6</td>\n",
       "      <td>2531</td>\n",
       "      <td>42</td>\n",
       "      <td>1.0</td>\n",
       "      <td>2.0</td>\n",
       "      <td>self_employed</td>\n",
       "      <td>1494</td>\n",
       "      <td>9.741145</td>\n",
       "      <td>388</td>\n",
       "      <td>58.0</td>\n",
       "      <td>...</td>\n",
       "      <td>9.775007</td>\n",
       "      <td>9.827581</td>\n",
       "      <td>9.806820</td>\n",
       "      <td>9.835057</td>\n",
       "      <td>1</td>\n",
       "      <td>0</td>\n",
       "      <td>0</td>\n",
       "      <td>0</td>\n",
       "      <td>1</td>\n",
       "      <td>0</td>\n",
       "    </tr>\n",
       "    <tr>\n",
       "      <th>...</th>\n",
       "      <td>...</td>\n",
       "      <td>...</td>\n",
       "      <td>...</td>\n",
       "      <td>...</td>\n",
       "      <td>...</td>\n",
       "      <td>...</td>\n",
       "      <td>...</td>\n",
       "      <td>...</td>\n",
       "      <td>...</td>\n",
       "      <td>...</td>\n",
       "      <td>...</td>\n",
       "      <td>...</td>\n",
       "      <td>...</td>\n",
       "      <td>...</td>\n",
       "      <td>...</td>\n",
       "      <td>...</td>\n",
       "      <td>...</td>\n",
       "      <td>...</td>\n",
       "      <td>...</td>\n",
       "      <td>...</td>\n",
       "      <td>...</td>\n",
       "    </tr>\n",
       "    <tr>\n",
       "      <th>28377</th>\n",
       "      <td>30297</td>\n",
       "      <td>1845</td>\n",
       "      <td>10</td>\n",
       "      <td>0.0</td>\n",
       "      <td>0.0</td>\n",
       "      <td>student</td>\n",
       "      <td>1020</td>\n",
       "      <td>9.741086</td>\n",
       "      <td>1207</td>\n",
       "      <td>70.0</td>\n",
       "      <td>...</td>\n",
       "      <td>9.740986</td>\n",
       "      <td>9.740986</td>\n",
       "      <td>9.802364</td>\n",
       "      <td>9.802364</td>\n",
       "      <td>0</td>\n",
       "      <td>0</td>\n",
       "      <td>0</td>\n",
       "      <td>0</td>\n",
       "      <td>0</td>\n",
       "      <td>1</td>\n",
       "    </tr>\n",
       "    <tr>\n",
       "      <th>28378</th>\n",
       "      <td>30298</td>\n",
       "      <td>4919</td>\n",
       "      <td>34</td>\n",
       "      <td>0.0</td>\n",
       "      <td>0.0</td>\n",
       "      <td>self_employed</td>\n",
       "      <td>1046</td>\n",
       "      <td>9.741086</td>\n",
       "      <td>223</td>\n",
       "      <td>14.0</td>\n",
       "      <td>...</td>\n",
       "      <td>9.792612</td>\n",
       "      <td>9.798908</td>\n",
       "      <td>9.939749</td>\n",
       "      <td>9.937421</td>\n",
       "      <td>0</td>\n",
       "      <td>0</td>\n",
       "      <td>0</td>\n",
       "      <td>0</td>\n",
       "      <td>1</td>\n",
       "      <td>0</td>\n",
       "    </tr>\n",
       "    <tr>\n",
       "      <th>28379</th>\n",
       "      <td>30299</td>\n",
       "      <td>297</td>\n",
       "      <td>47</td>\n",
       "      <td>1.0</td>\n",
       "      <td>0.0</td>\n",
       "      <td>salaried</td>\n",
       "      <td>1096</td>\n",
       "      <td>9.741086</td>\n",
       "      <td>588</td>\n",
       "      <td>0.0</td>\n",
       "      <td>...</td>\n",
       "      <td>9.750816</td>\n",
       "      <td>9.745183</td>\n",
       "      <td>11.265470</td>\n",
       "      <td>11.219416</td>\n",
       "      <td>1</td>\n",
       "      <td>0</td>\n",
       "      <td>0</td>\n",
       "      <td>1</td>\n",
       "      <td>0</td>\n",
       "      <td>0</td>\n",
       "    </tr>\n",
       "    <tr>\n",
       "      <th>28380</th>\n",
       "      <td>30300</td>\n",
       "      <td>2585</td>\n",
       "      <td>50</td>\n",
       "      <td>1.0</td>\n",
       "      <td>3.0</td>\n",
       "      <td>self_employed</td>\n",
       "      <td>1219</td>\n",
       "      <td>9.741145</td>\n",
       "      <td>274</td>\n",
       "      <td>999.0</td>\n",
       "      <td>...</td>\n",
       "      <td>9.740980</td>\n",
       "      <td>9.740980</td>\n",
       "      <td>9.832290</td>\n",
       "      <td>9.832290</td>\n",
       "      <td>0</td>\n",
       "      <td>0</td>\n",
       "      <td>0</td>\n",
       "      <td>0</td>\n",
       "      <td>1</td>\n",
       "      <td>0</td>\n",
       "    </tr>\n",
       "    <tr>\n",
       "      <th>28381</th>\n",
       "      <td>30301</td>\n",
       "      <td>2349</td>\n",
       "      <td>18</td>\n",
       "      <td>1.0</td>\n",
       "      <td>0.0</td>\n",
       "      <td>student</td>\n",
       "      <td>1232</td>\n",
       "      <td>9.741086</td>\n",
       "      <td>474</td>\n",
       "      <td>59.0</td>\n",
       "      <td>...</td>\n",
       "      <td>9.782133</td>\n",
       "      <td>9.803341</td>\n",
       "      <td>9.873163</td>\n",
       "      <td>9.916432</td>\n",
       "      <td>1</td>\n",
       "      <td>0</td>\n",
       "      <td>0</td>\n",
       "      <td>0</td>\n",
       "      <td>0</td>\n",
       "      <td>1</td>\n",
       "    </tr>\n",
       "  </tbody>\n",
       "</table>\n",
       "<p>28373 rows × 26 columns</p>\n",
       "</div>"
      ],
      "text/plain": [
       "       customer_id  vintage  age  gender  dependents     occupation  city  \\\n",
       "0                1     3135   66     1.0         0.0  self_employed   187   \n",
       "1                2      310   35     1.0         0.0  self_employed  1020   \n",
       "2                4     2356   31     1.0         0.0       salaried   146   \n",
       "3                5      478   90    -1.0         0.0  self_employed  1020   \n",
       "4                6     2531   42     1.0         2.0  self_employed  1494   \n",
       "...            ...      ...  ...     ...         ...            ...   ...   \n",
       "28377        30297     1845   10     0.0         0.0        student  1020   \n",
       "28378        30298     4919   34     0.0         0.0  self_employed  1046   \n",
       "28379        30299      297   47     1.0         0.0       salaried  1096   \n",
       "28380        30300     2585   50     1.0         3.0  self_employed  1219   \n",
       "28381        30301     2349   18     1.0         0.0        student  1232   \n",
       "\n",
       "       customer_nw_category  branch_code  days_since_last_transaction  ...  \\\n",
       "0                  9.741086          755                        224.0  ...   \n",
       "1                  9.741086         3214                         60.0  ...   \n",
       "2                  9.741086           41                        999.0  ...   \n",
       "3                  9.741086          582                        147.0  ...   \n",
       "4                  9.741145          388                         58.0  ...   \n",
       "...                     ...          ...                          ...  ...   \n",
       "28377              9.741086         1207                         70.0  ...   \n",
       "28378              9.741086          223                         14.0  ...   \n",
       "28379              9.741086          588                          0.0  ...   \n",
       "28380              9.741145          274                        999.0  ...   \n",
       "28381              9.741086          474                         59.0  ...   \n",
       "\n",
       "       current_month_debit  previous_month_debit  current_month_balance  \\\n",
       "0                 9.740980              9.740980               9.823292   \n",
       "1                10.020660              9.746866              10.064619   \n",
       "2                10.045279              9.756102               9.999083   \n",
       "3                 9.740996              9.859710               9.867441   \n",
       "4                 9.775007              9.827581               9.806820   \n",
       "...                    ...                   ...                    ...   \n",
       "28377             9.740986              9.740986               9.802364   \n",
       "28378             9.792612              9.798908               9.939749   \n",
       "28379             9.750816              9.745183              11.265470   \n",
       "28380             9.740980              9.740980               9.832290   \n",
       "28381             9.782133              9.803341               9.873163   \n",
       "\n",
       "       previous_month_balance  churn  occupation_company  occupation_retired  \\\n",
       "0                    9.823292      0                   0                   0   \n",
       "1                   10.157649      0                   0                   0   \n",
       "2                   10.001981      0                   0                   0   \n",
       "3                    9.834662      1                   0                   0   \n",
       "4                    9.835057      1                   0                   0   \n",
       "...                       ...    ...                 ...                 ...   \n",
       "28377                9.802364      0                   0                   0   \n",
       "28378                9.937421      0                   0                   0   \n",
       "28379               11.219416      1                   0                   0   \n",
       "28380                9.832290      0                   0                   0   \n",
       "28381                9.916432      1                   0                   0   \n",
       "\n",
       "       occupation_salaried  occupation_self_employed  occupation_student  \n",
       "0                        0                         1                   0  \n",
       "1                        0                         1                   0  \n",
       "2                        1                         0                   0  \n",
       "3                        0                         1                   0  \n",
       "4                        0                         1                   0  \n",
       "...                    ...                       ...                 ...  \n",
       "28377                    0                         0                   1  \n",
       "28378                    0                         1                   0  \n",
       "28379                    1                         0                   0  \n",
       "28380                    0                         1                   0  \n",
       "28381                    0                         0                   1  \n",
       "\n",
       "[28373 rows x 26 columns]"
      ]
     },
     "execution_count": 174,
     "metadata": {},
     "output_type": "execute_result"
    }
   ],
   "source": [
    "df"
   ]
  },
  {
   "cell_type": "code",
   "execution_count": 175,
   "metadata": {},
   "outputs": [],
   "source": [
    "df.drop(labels='occupation', axis=1,inplace=True)"
   ]
  },
  {
   "cell_type": "code",
   "execution_count": 176,
   "metadata": {},
   "outputs": [
    {
     "data": {
      "text/html": [
       "<div>\n",
       "<style scoped>\n",
       "    .dataframe tbody tr th:only-of-type {\n",
       "        vertical-align: middle;\n",
       "    }\n",
       "\n",
       "    .dataframe tbody tr th {\n",
       "        vertical-align: top;\n",
       "    }\n",
       "\n",
       "    .dataframe thead th {\n",
       "        text-align: right;\n",
       "    }\n",
       "</style>\n",
       "<table border=\"1\" class=\"dataframe\">\n",
       "  <thead>\n",
       "    <tr style=\"text-align: right;\">\n",
       "      <th></th>\n",
       "      <th>customer_id</th>\n",
       "      <th>vintage</th>\n",
       "      <th>age</th>\n",
       "      <th>gender</th>\n",
       "      <th>dependents</th>\n",
       "      <th>city</th>\n",
       "      <th>customer_nw_category</th>\n",
       "      <th>branch_code</th>\n",
       "      <th>days_since_last_transaction</th>\n",
       "      <th>current_balance</th>\n",
       "      <th>...</th>\n",
       "      <th>current_month_debit</th>\n",
       "      <th>previous_month_debit</th>\n",
       "      <th>current_month_balance</th>\n",
       "      <th>previous_month_balance</th>\n",
       "      <th>churn</th>\n",
       "      <th>occupation_company</th>\n",
       "      <th>occupation_retired</th>\n",
       "      <th>occupation_salaried</th>\n",
       "      <th>occupation_self_employed</th>\n",
       "      <th>occupation_student</th>\n",
       "    </tr>\n",
       "  </thead>\n",
       "  <tbody>\n",
       "    <tr>\n",
       "      <th>0</th>\n",
       "      <td>1</td>\n",
       "      <td>3135</td>\n",
       "      <td>66</td>\n",
       "      <td>1.0</td>\n",
       "      <td>0.0</td>\n",
       "      <td>187</td>\n",
       "      <td>9.741086</td>\n",
       "      <td>755</td>\n",
       "      <td>224.0</td>\n",
       "      <td>9.823292</td>\n",
       "      <td>...</td>\n",
       "      <td>9.740980</td>\n",
       "      <td>9.740980</td>\n",
       "      <td>9.823292</td>\n",
       "      <td>9.823292</td>\n",
       "      <td>0</td>\n",
       "      <td>0</td>\n",
       "      <td>0</td>\n",
       "      <td>0</td>\n",
       "      <td>1</td>\n",
       "      <td>0</td>\n",
       "    </tr>\n",
       "    <tr>\n",
       "      <th>1</th>\n",
       "      <td>2</td>\n",
       "      <td>310</td>\n",
       "      <td>35</td>\n",
       "      <td>1.0</td>\n",
       "      <td>0.0</td>\n",
       "      <td>1020</td>\n",
       "      <td>9.741086</td>\n",
       "      <td>3214</td>\n",
       "      <td>60.0</td>\n",
       "      <td>10.016386</td>\n",
       "      <td>...</td>\n",
       "      <td>10.020660</td>\n",
       "      <td>9.746866</td>\n",
       "      <td>10.064619</td>\n",
       "      <td>10.157649</td>\n",
       "      <td>0</td>\n",
       "      <td>0</td>\n",
       "      <td>0</td>\n",
       "      <td>0</td>\n",
       "      <td>1</td>\n",
       "      <td>0</td>\n",
       "    </tr>\n",
       "    <tr>\n",
       "      <th>2</th>\n",
       "      <td>4</td>\n",
       "      <td>2356</td>\n",
       "      <td>31</td>\n",
       "      <td>1.0</td>\n",
       "      <td>0.0</td>\n",
       "      <td>146</td>\n",
       "      <td>9.741086</td>\n",
       "      <td>41</td>\n",
       "      <td>999.0</td>\n",
       "      <td>9.948134</td>\n",
       "      <td>...</td>\n",
       "      <td>10.045279</td>\n",
       "      <td>9.756102</td>\n",
       "      <td>9.999083</td>\n",
       "      <td>10.001981</td>\n",
       "      <td>0</td>\n",
       "      <td>0</td>\n",
       "      <td>0</td>\n",
       "      <td>1</td>\n",
       "      <td>0</td>\n",
       "      <td>0</td>\n",
       "    </tr>\n",
       "    <tr>\n",
       "      <th>3</th>\n",
       "      <td>5</td>\n",
       "      <td>478</td>\n",
       "      <td>90</td>\n",
       "      <td>-1.0</td>\n",
       "      <td>0.0</td>\n",
       "      <td>1020</td>\n",
       "      <td>9.741086</td>\n",
       "      <td>582</td>\n",
       "      <td>147.0</td>\n",
       "      <td>9.867441</td>\n",
       "      <td>...</td>\n",
       "      <td>9.740996</td>\n",
       "      <td>9.859710</td>\n",
       "      <td>9.867441</td>\n",
       "      <td>9.834662</td>\n",
       "      <td>1</td>\n",
       "      <td>0</td>\n",
       "      <td>0</td>\n",
       "      <td>0</td>\n",
       "      <td>1</td>\n",
       "      <td>0</td>\n",
       "    </tr>\n",
       "    <tr>\n",
       "      <th>4</th>\n",
       "      <td>6</td>\n",
       "      <td>2531</td>\n",
       "      <td>42</td>\n",
       "      <td>1.0</td>\n",
       "      <td>2.0</td>\n",
       "      <td>1494</td>\n",
       "      <td>9.741145</td>\n",
       "      <td>388</td>\n",
       "      <td>58.0</td>\n",
       "      <td>9.794103</td>\n",
       "      <td>...</td>\n",
       "      <td>9.775007</td>\n",
       "      <td>9.827581</td>\n",
       "      <td>9.806820</td>\n",
       "      <td>9.835057</td>\n",
       "      <td>1</td>\n",
       "      <td>0</td>\n",
       "      <td>0</td>\n",
       "      <td>0</td>\n",
       "      <td>1</td>\n",
       "      <td>0</td>\n",
       "    </tr>\n",
       "    <tr>\n",
       "      <th>...</th>\n",
       "      <td>...</td>\n",
       "      <td>...</td>\n",
       "      <td>...</td>\n",
       "      <td>...</td>\n",
       "      <td>...</td>\n",
       "      <td>...</td>\n",
       "      <td>...</td>\n",
       "      <td>...</td>\n",
       "      <td>...</td>\n",
       "      <td>...</td>\n",
       "      <td>...</td>\n",
       "      <td>...</td>\n",
       "      <td>...</td>\n",
       "      <td>...</td>\n",
       "      <td>...</td>\n",
       "      <td>...</td>\n",
       "      <td>...</td>\n",
       "      <td>...</td>\n",
       "      <td>...</td>\n",
       "      <td>...</td>\n",
       "      <td>...</td>\n",
       "    </tr>\n",
       "    <tr>\n",
       "      <th>28377</th>\n",
       "      <td>30297</td>\n",
       "      <td>1845</td>\n",
       "      <td>10</td>\n",
       "      <td>0.0</td>\n",
       "      <td>0.0</td>\n",
       "      <td>1020</td>\n",
       "      <td>9.741086</td>\n",
       "      <td>1207</td>\n",
       "      <td>70.0</td>\n",
       "      <td>9.802364</td>\n",
       "      <td>...</td>\n",
       "      <td>9.740986</td>\n",
       "      <td>9.740986</td>\n",
       "      <td>9.802364</td>\n",
       "      <td>9.802364</td>\n",
       "      <td>0</td>\n",
       "      <td>0</td>\n",
       "      <td>0</td>\n",
       "      <td>0</td>\n",
       "      <td>0</td>\n",
       "      <td>1</td>\n",
       "    </tr>\n",
       "    <tr>\n",
       "      <th>28378</th>\n",
       "      <td>30298</td>\n",
       "      <td>4919</td>\n",
       "      <td>34</td>\n",
       "      <td>0.0</td>\n",
       "      <td>0.0</td>\n",
       "      <td>1046</td>\n",
       "      <td>9.741086</td>\n",
       "      <td>223</td>\n",
       "      <td>14.0</td>\n",
       "      <td>9.944826</td>\n",
       "      <td>...</td>\n",
       "      <td>9.792612</td>\n",
       "      <td>9.798908</td>\n",
       "      <td>9.939749</td>\n",
       "      <td>9.937421</td>\n",
       "      <td>0</td>\n",
       "      <td>0</td>\n",
       "      <td>0</td>\n",
       "      <td>0</td>\n",
       "      <td>1</td>\n",
       "      <td>0</td>\n",
       "    </tr>\n",
       "    <tr>\n",
       "      <th>28379</th>\n",
       "      <td>30299</td>\n",
       "      <td>297</td>\n",
       "      <td>47</td>\n",
       "      <td>1.0</td>\n",
       "      <td>0.0</td>\n",
       "      <td>1096</td>\n",
       "      <td>9.741086</td>\n",
       "      <td>588</td>\n",
       "      <td>0.0</td>\n",
       "      <td>11.320699</td>\n",
       "      <td>...</td>\n",
       "      <td>9.750816</td>\n",
       "      <td>9.745183</td>\n",
       "      <td>11.265470</td>\n",
       "      <td>11.219416</td>\n",
       "      <td>1</td>\n",
       "      <td>0</td>\n",
       "      <td>0</td>\n",
       "      <td>1</td>\n",
       "      <td>0</td>\n",
       "      <td>0</td>\n",
       "    </tr>\n",
       "    <tr>\n",
       "      <th>28380</th>\n",
       "      <td>30300</td>\n",
       "      <td>2585</td>\n",
       "      <td>50</td>\n",
       "      <td>1.0</td>\n",
       "      <td>3.0</td>\n",
       "      <td>1219</td>\n",
       "      <td>9.741145</td>\n",
       "      <td>274</td>\n",
       "      <td>999.0</td>\n",
       "      <td>9.832290</td>\n",
       "      <td>...</td>\n",
       "      <td>9.740980</td>\n",
       "      <td>9.740980</td>\n",
       "      <td>9.832290</td>\n",
       "      <td>9.832290</td>\n",
       "      <td>0</td>\n",
       "      <td>0</td>\n",
       "      <td>0</td>\n",
       "      <td>0</td>\n",
       "      <td>1</td>\n",
       "      <td>0</td>\n",
       "    </tr>\n",
       "    <tr>\n",
       "      <th>28381</th>\n",
       "      <td>30301</td>\n",
       "      <td>2349</td>\n",
       "      <td>18</td>\n",
       "      <td>1.0</td>\n",
       "      <td>0.0</td>\n",
       "      <td>1232</td>\n",
       "      <td>9.741086</td>\n",
       "      <td>474</td>\n",
       "      <td>59.0</td>\n",
       "      <td>9.857813</td>\n",
       "      <td>...</td>\n",
       "      <td>9.782133</td>\n",
       "      <td>9.803341</td>\n",
       "      <td>9.873163</td>\n",
       "      <td>9.916432</td>\n",
       "      <td>1</td>\n",
       "      <td>0</td>\n",
       "      <td>0</td>\n",
       "      <td>0</td>\n",
       "      <td>0</td>\n",
       "      <td>1</td>\n",
       "    </tr>\n",
       "  </tbody>\n",
       "</table>\n",
       "<p>28373 rows × 25 columns</p>\n",
       "</div>"
      ],
      "text/plain": [
       "       customer_id  vintage  age  gender  dependents  city  \\\n",
       "0                1     3135   66     1.0         0.0   187   \n",
       "1                2      310   35     1.0         0.0  1020   \n",
       "2                4     2356   31     1.0         0.0   146   \n",
       "3                5      478   90    -1.0         0.0  1020   \n",
       "4                6     2531   42     1.0         2.0  1494   \n",
       "...            ...      ...  ...     ...         ...   ...   \n",
       "28377        30297     1845   10     0.0         0.0  1020   \n",
       "28378        30298     4919   34     0.0         0.0  1046   \n",
       "28379        30299      297   47     1.0         0.0  1096   \n",
       "28380        30300     2585   50     1.0         3.0  1219   \n",
       "28381        30301     2349   18     1.0         0.0  1232   \n",
       "\n",
       "       customer_nw_category  branch_code  days_since_last_transaction  \\\n",
       "0                  9.741086          755                        224.0   \n",
       "1                  9.741086         3214                         60.0   \n",
       "2                  9.741086           41                        999.0   \n",
       "3                  9.741086          582                        147.0   \n",
       "4                  9.741145          388                         58.0   \n",
       "...                     ...          ...                          ...   \n",
       "28377              9.741086         1207                         70.0   \n",
       "28378              9.741086          223                         14.0   \n",
       "28379              9.741086          588                          0.0   \n",
       "28380              9.741145          274                        999.0   \n",
       "28381              9.741086          474                         59.0   \n",
       "\n",
       "       current_balance  ...  current_month_debit  previous_month_debit  \\\n",
       "0             9.823292  ...             9.740980              9.740980   \n",
       "1            10.016386  ...            10.020660              9.746866   \n",
       "2             9.948134  ...            10.045279              9.756102   \n",
       "3             9.867441  ...             9.740996              9.859710   \n",
       "4             9.794103  ...             9.775007              9.827581   \n",
       "...                ...  ...                  ...                   ...   \n",
       "28377         9.802364  ...             9.740986              9.740986   \n",
       "28378         9.944826  ...             9.792612              9.798908   \n",
       "28379        11.320699  ...             9.750816              9.745183   \n",
       "28380         9.832290  ...             9.740980              9.740980   \n",
       "28381         9.857813  ...             9.782133              9.803341   \n",
       "\n",
       "       current_month_balance  previous_month_balance  churn  \\\n",
       "0                   9.823292                9.823292      0   \n",
       "1                  10.064619               10.157649      0   \n",
       "2                   9.999083               10.001981      0   \n",
       "3                   9.867441                9.834662      1   \n",
       "4                   9.806820                9.835057      1   \n",
       "...                      ...                     ...    ...   \n",
       "28377               9.802364                9.802364      0   \n",
       "28378               9.939749                9.937421      0   \n",
       "28379              11.265470               11.219416      1   \n",
       "28380               9.832290                9.832290      0   \n",
       "28381               9.873163                9.916432      1   \n",
       "\n",
       "       occupation_company  occupation_retired  occupation_salaried  \\\n",
       "0                       0                   0                    0   \n",
       "1                       0                   0                    0   \n",
       "2                       0                   0                    1   \n",
       "3                       0                   0                    0   \n",
       "4                       0                   0                    0   \n",
       "...                   ...                 ...                  ...   \n",
       "28377                   0                   0                    0   \n",
       "28378                   0                   0                    0   \n",
       "28379                   0                   0                    1   \n",
       "28380                   0                   0                    0   \n",
       "28381                   0                   0                    0   \n",
       "\n",
       "       occupation_self_employed  occupation_student  \n",
       "0                             1                   0  \n",
       "1                             1                   0  \n",
       "2                             0                   0  \n",
       "3                             1                   0  \n",
       "4                             1                   0  \n",
       "...                         ...                 ...  \n",
       "28377                         0                   1  \n",
       "28378                         1                   0  \n",
       "28379                         0                   0  \n",
       "28380                         1                   0  \n",
       "28381                         0                   1  \n",
       "\n",
       "[28373 rows x 25 columns]"
      ]
     },
     "execution_count": 176,
     "metadata": {},
     "output_type": "execute_result"
    }
   ],
   "source": [
    "df"
   ]
  },
  {
   "cell_type": "markdown",
   "metadata": {},
   "source": [
    "# Splitting data into train_data and test_data"
   ]
  },
  {
   "cell_type": "code",
   "execution_count": 177,
   "metadata": {},
   "outputs": [
    {
     "data": {
      "text/plain": [
       "0        0\n",
       "1        0\n",
       "2        0\n",
       "3        1\n",
       "4        1\n",
       "        ..\n",
       "28377    0\n",
       "28378    0\n",
       "28379    1\n",
       "28380    0\n",
       "28381    1\n",
       "Name: churn, Length: 28373, dtype: int64"
      ]
     },
     "execution_count": 177,
     "metadata": {},
     "output_type": "execute_result"
    }
   ],
   "source": [
    "Y = df['churn']\n",
    "Y"
   ]
  },
  {
   "cell_type": "code",
   "execution_count": 178,
   "metadata": {},
   "outputs": [
    {
     "data": {
      "text/html": [
       "<div>\n",
       "<style scoped>\n",
       "    .dataframe tbody tr th:only-of-type {\n",
       "        vertical-align: middle;\n",
       "    }\n",
       "\n",
       "    .dataframe tbody tr th {\n",
       "        vertical-align: top;\n",
       "    }\n",
       "\n",
       "    .dataframe thead th {\n",
       "        text-align: right;\n",
       "    }\n",
       "</style>\n",
       "<table border=\"1\" class=\"dataframe\">\n",
       "  <thead>\n",
       "    <tr style=\"text-align: right;\">\n",
       "      <th></th>\n",
       "      <th>customer_id</th>\n",
       "      <th>vintage</th>\n",
       "      <th>age</th>\n",
       "      <th>gender</th>\n",
       "      <th>dependents</th>\n",
       "      <th>city</th>\n",
       "      <th>customer_nw_category</th>\n",
       "      <th>branch_code</th>\n",
       "      <th>days_since_last_transaction</th>\n",
       "      <th>current_balance</th>\n",
       "      <th>...</th>\n",
       "      <th>previous_month_credit</th>\n",
       "      <th>current_month_debit</th>\n",
       "      <th>previous_month_debit</th>\n",
       "      <th>current_month_balance</th>\n",
       "      <th>previous_month_balance</th>\n",
       "      <th>occupation_company</th>\n",
       "      <th>occupation_retired</th>\n",
       "      <th>occupation_salaried</th>\n",
       "      <th>occupation_self_employed</th>\n",
       "      <th>occupation_student</th>\n",
       "    </tr>\n",
       "  </thead>\n",
       "  <tbody>\n",
       "    <tr>\n",
       "      <th>0</th>\n",
       "      <td>1</td>\n",
       "      <td>3135</td>\n",
       "      <td>66</td>\n",
       "      <td>1.0</td>\n",
       "      <td>0.0</td>\n",
       "      <td>187</td>\n",
       "      <td>9.741086</td>\n",
       "      <td>755</td>\n",
       "      <td>224.0</td>\n",
       "      <td>9.823292</td>\n",
       "      <td>...</td>\n",
       "      <td>9.740980</td>\n",
       "      <td>9.740980</td>\n",
       "      <td>9.740980</td>\n",
       "      <td>9.823292</td>\n",
       "      <td>9.823292</td>\n",
       "      <td>0</td>\n",
       "      <td>0</td>\n",
       "      <td>0</td>\n",
       "      <td>1</td>\n",
       "      <td>0</td>\n",
       "    </tr>\n",
       "    <tr>\n",
       "      <th>1</th>\n",
       "      <td>2</td>\n",
       "      <td>310</td>\n",
       "      <td>35</td>\n",
       "      <td>1.0</td>\n",
       "      <td>0.0</td>\n",
       "      <td>1020</td>\n",
       "      <td>9.741086</td>\n",
       "      <td>3214</td>\n",
       "      <td>60.0</td>\n",
       "      <td>10.016386</td>\n",
       "      <td>...</td>\n",
       "      <td>9.741002</td>\n",
       "      <td>10.020660</td>\n",
       "      <td>9.746866</td>\n",
       "      <td>10.064619</td>\n",
       "      <td>10.157649</td>\n",
       "      <td>0</td>\n",
       "      <td>0</td>\n",
       "      <td>0</td>\n",
       "      <td>1</td>\n",
       "      <td>0</td>\n",
       "    </tr>\n",
       "    <tr>\n",
       "      <th>2</th>\n",
       "      <td>4</td>\n",
       "      <td>2356</td>\n",
       "      <td>31</td>\n",
       "      <td>1.0</td>\n",
       "      <td>0.0</td>\n",
       "      <td>146</td>\n",
       "      <td>9.741086</td>\n",
       "      <td>41</td>\n",
       "      <td>999.0</td>\n",
       "      <td>9.948134</td>\n",
       "      <td>...</td>\n",
       "      <td>9.741005</td>\n",
       "      <td>10.045279</td>\n",
       "      <td>9.756102</td>\n",
       "      <td>9.999083</td>\n",
       "      <td>10.001981</td>\n",
       "      <td>0</td>\n",
       "      <td>0</td>\n",
       "      <td>1</td>\n",
       "      <td>0</td>\n",
       "      <td>0</td>\n",
       "    </tr>\n",
       "    <tr>\n",
       "      <th>3</th>\n",
       "      <td>5</td>\n",
       "      <td>478</td>\n",
       "      <td>90</td>\n",
       "      <td>-1.0</td>\n",
       "      <td>0.0</td>\n",
       "      <td>1020</td>\n",
       "      <td>9.741086</td>\n",
       "      <td>582</td>\n",
       "      <td>147.0</td>\n",
       "      <td>9.867441</td>\n",
       "      <td>...</td>\n",
       "      <td>9.740996</td>\n",
       "      <td>9.740996</td>\n",
       "      <td>9.859710</td>\n",
       "      <td>9.867441</td>\n",
       "      <td>9.834662</td>\n",
       "      <td>0</td>\n",
       "      <td>0</td>\n",
       "      <td>0</td>\n",
       "      <td>1</td>\n",
       "      <td>0</td>\n",
       "    </tr>\n",
       "    <tr>\n",
       "      <th>4</th>\n",
       "      <td>6</td>\n",
       "      <td>2531</td>\n",
       "      <td>42</td>\n",
       "      <td>1.0</td>\n",
       "      <td>2.0</td>\n",
       "      <td>1494</td>\n",
       "      <td>9.741145</td>\n",
       "      <td>388</td>\n",
       "      <td>58.0</td>\n",
       "      <td>9.794103</td>\n",
       "      <td>...</td>\n",
       "      <td>9.782145</td>\n",
       "      <td>9.775007</td>\n",
       "      <td>9.827581</td>\n",
       "      <td>9.806820</td>\n",
       "      <td>9.835057</td>\n",
       "      <td>0</td>\n",
       "      <td>0</td>\n",
       "      <td>0</td>\n",
       "      <td>1</td>\n",
       "      <td>0</td>\n",
       "    </tr>\n",
       "    <tr>\n",
       "      <th>...</th>\n",
       "      <td>...</td>\n",
       "      <td>...</td>\n",
       "      <td>...</td>\n",
       "      <td>...</td>\n",
       "      <td>...</td>\n",
       "      <td>...</td>\n",
       "      <td>...</td>\n",
       "      <td>...</td>\n",
       "      <td>...</td>\n",
       "      <td>...</td>\n",
       "      <td>...</td>\n",
       "      <td>...</td>\n",
       "      <td>...</td>\n",
       "      <td>...</td>\n",
       "      <td>...</td>\n",
       "      <td>...</td>\n",
       "      <td>...</td>\n",
       "      <td>...</td>\n",
       "      <td>...</td>\n",
       "      <td>...</td>\n",
       "      <td>...</td>\n",
       "    </tr>\n",
       "    <tr>\n",
       "      <th>28377</th>\n",
       "      <td>30297</td>\n",
       "      <td>1845</td>\n",
       "      <td>10</td>\n",
       "      <td>0.0</td>\n",
       "      <td>0.0</td>\n",
       "      <td>1020</td>\n",
       "      <td>9.741086</td>\n",
       "      <td>1207</td>\n",
       "      <td>70.0</td>\n",
       "      <td>9.802364</td>\n",
       "      <td>...</td>\n",
       "      <td>9.740986</td>\n",
       "      <td>9.740986</td>\n",
       "      <td>9.740986</td>\n",
       "      <td>9.802364</td>\n",
       "      <td>9.802364</td>\n",
       "      <td>0</td>\n",
       "      <td>0</td>\n",
       "      <td>0</td>\n",
       "      <td>0</td>\n",
       "      <td>1</td>\n",
       "    </tr>\n",
       "    <tr>\n",
       "      <th>28378</th>\n",
       "      <td>30298</td>\n",
       "      <td>4919</td>\n",
       "      <td>34</td>\n",
       "      <td>0.0</td>\n",
       "      <td>0.0</td>\n",
       "      <td>1046</td>\n",
       "      <td>9.741086</td>\n",
       "      <td>223</td>\n",
       "      <td>14.0</td>\n",
       "      <td>9.944826</td>\n",
       "      <td>...</td>\n",
       "      <td>9.741103</td>\n",
       "      <td>9.792612</td>\n",
       "      <td>9.798908</td>\n",
       "      <td>9.939749</td>\n",
       "      <td>9.937421</td>\n",
       "      <td>0</td>\n",
       "      <td>0</td>\n",
       "      <td>0</td>\n",
       "      <td>1</td>\n",
       "      <td>0</td>\n",
       "    </tr>\n",
       "    <tr>\n",
       "      <th>28379</th>\n",
       "      <td>30299</td>\n",
       "      <td>297</td>\n",
       "      <td>47</td>\n",
       "      <td>1.0</td>\n",
       "      <td>0.0</td>\n",
       "      <td>1096</td>\n",
       "      <td>9.741086</td>\n",
       "      <td>588</td>\n",
       "      <td>0.0</td>\n",
       "      <td>11.320699</td>\n",
       "      <td>...</td>\n",
       "      <td>9.946694</td>\n",
       "      <td>9.750816</td>\n",
       "      <td>9.745183</td>\n",
       "      <td>11.265470</td>\n",
       "      <td>11.219416</td>\n",
       "      <td>0</td>\n",
       "      <td>0</td>\n",
       "      <td>1</td>\n",
       "      <td>0</td>\n",
       "      <td>0</td>\n",
       "    </tr>\n",
       "    <tr>\n",
       "      <th>28380</th>\n",
       "      <td>30300</td>\n",
       "      <td>2585</td>\n",
       "      <td>50</td>\n",
       "      <td>1.0</td>\n",
       "      <td>3.0</td>\n",
       "      <td>1219</td>\n",
       "      <td>9.741145</td>\n",
       "      <td>274</td>\n",
       "      <td>999.0</td>\n",
       "      <td>9.832290</td>\n",
       "      <td>...</td>\n",
       "      <td>9.740980</td>\n",
       "      <td>9.740980</td>\n",
       "      <td>9.740980</td>\n",
       "      <td>9.832290</td>\n",
       "      <td>9.832290</td>\n",
       "      <td>0</td>\n",
       "      <td>0</td>\n",
       "      <td>0</td>\n",
       "      <td>1</td>\n",
       "      <td>0</td>\n",
       "    </tr>\n",
       "    <tr>\n",
       "      <th>28381</th>\n",
       "      <td>30301</td>\n",
       "      <td>2349</td>\n",
       "      <td>18</td>\n",
       "      <td>1.0</td>\n",
       "      <td>0.0</td>\n",
       "      <td>1232</td>\n",
       "      <td>9.741086</td>\n",
       "      <td>474</td>\n",
       "      <td>59.0</td>\n",
       "      <td>9.857813</td>\n",
       "      <td>...</td>\n",
       "      <td>9.741406</td>\n",
       "      <td>9.782133</td>\n",
       "      <td>9.803341</td>\n",
       "      <td>9.873163</td>\n",
       "      <td>9.916432</td>\n",
       "      <td>0</td>\n",
       "      <td>0</td>\n",
       "      <td>0</td>\n",
       "      <td>0</td>\n",
       "      <td>1</td>\n",
       "    </tr>\n",
       "  </tbody>\n",
       "</table>\n",
       "<p>28373 rows × 24 columns</p>\n",
       "</div>"
      ],
      "text/plain": [
       "       customer_id  vintage  age  gender  dependents  city  \\\n",
       "0                1     3135   66     1.0         0.0   187   \n",
       "1                2      310   35     1.0         0.0  1020   \n",
       "2                4     2356   31     1.0         0.0   146   \n",
       "3                5      478   90    -1.0         0.0  1020   \n",
       "4                6     2531   42     1.0         2.0  1494   \n",
       "...            ...      ...  ...     ...         ...   ...   \n",
       "28377        30297     1845   10     0.0         0.0  1020   \n",
       "28378        30298     4919   34     0.0         0.0  1046   \n",
       "28379        30299      297   47     1.0         0.0  1096   \n",
       "28380        30300     2585   50     1.0         3.0  1219   \n",
       "28381        30301     2349   18     1.0         0.0  1232   \n",
       "\n",
       "       customer_nw_category  branch_code  days_since_last_transaction  \\\n",
       "0                  9.741086          755                        224.0   \n",
       "1                  9.741086         3214                         60.0   \n",
       "2                  9.741086           41                        999.0   \n",
       "3                  9.741086          582                        147.0   \n",
       "4                  9.741145          388                         58.0   \n",
       "...                     ...          ...                          ...   \n",
       "28377              9.741086         1207                         70.0   \n",
       "28378              9.741086          223                         14.0   \n",
       "28379              9.741086          588                          0.0   \n",
       "28380              9.741145          274                        999.0   \n",
       "28381              9.741086          474                         59.0   \n",
       "\n",
       "       current_balance  ...  previous_month_credit  current_month_debit  \\\n",
       "0             9.823292  ...               9.740980             9.740980   \n",
       "1            10.016386  ...               9.741002            10.020660   \n",
       "2             9.948134  ...               9.741005            10.045279   \n",
       "3             9.867441  ...               9.740996             9.740996   \n",
       "4             9.794103  ...               9.782145             9.775007   \n",
       "...                ...  ...                    ...                  ...   \n",
       "28377         9.802364  ...               9.740986             9.740986   \n",
       "28378         9.944826  ...               9.741103             9.792612   \n",
       "28379        11.320699  ...               9.946694             9.750816   \n",
       "28380         9.832290  ...               9.740980             9.740980   \n",
       "28381         9.857813  ...               9.741406             9.782133   \n",
       "\n",
       "       previous_month_debit  current_month_balance  previous_month_balance  \\\n",
       "0                  9.740980               9.823292                9.823292   \n",
       "1                  9.746866              10.064619               10.157649   \n",
       "2                  9.756102               9.999083               10.001981   \n",
       "3                  9.859710               9.867441                9.834662   \n",
       "4                  9.827581               9.806820                9.835057   \n",
       "...                     ...                    ...                     ...   \n",
       "28377              9.740986               9.802364                9.802364   \n",
       "28378              9.798908               9.939749                9.937421   \n",
       "28379              9.745183              11.265470               11.219416   \n",
       "28380              9.740980               9.832290                9.832290   \n",
       "28381              9.803341               9.873163                9.916432   \n",
       "\n",
       "       occupation_company  occupation_retired  occupation_salaried  \\\n",
       "0                       0                   0                    0   \n",
       "1                       0                   0                    0   \n",
       "2                       0                   0                    1   \n",
       "3                       0                   0                    0   \n",
       "4                       0                   0                    0   \n",
       "...                   ...                 ...                  ...   \n",
       "28377                   0                   0                    0   \n",
       "28378                   0                   0                    0   \n",
       "28379                   0                   0                    1   \n",
       "28380                   0                   0                    0   \n",
       "28381                   0                   0                    0   \n",
       "\n",
       "       occupation_self_employed  occupation_student  \n",
       "0                             1                   0  \n",
       "1                             1                   0  \n",
       "2                             0                   0  \n",
       "3                             1                   0  \n",
       "4                             1                   0  \n",
       "...                         ...                 ...  \n",
       "28377                         0                   1  \n",
       "28378                         1                   0  \n",
       "28379                         0                   0  \n",
       "28380                         1                   0  \n",
       "28381                         0                   1  \n",
       "\n",
       "[28373 rows x 24 columns]"
      ]
     },
     "execution_count": 178,
     "metadata": {},
     "output_type": "execute_result"
    }
   ],
   "source": [
    "X = df.drop(labels='churn', axis=1, inplace=False)\n",
    "X"
   ]
  },
  {
   "cell_type": "code",
   "execution_count": 179,
   "metadata": {},
   "outputs": [],
   "source": [
    "from sklearn.preprocessing import MinMaxScaler as MMS\n",
    "minMax = MMS()\n",
    "X_scaled = minMax.fit_transform(X)"
   ]
  },
  {
   "cell_type": "code",
   "execution_count": 180,
   "metadata": {},
   "outputs": [],
   "source": [
    "X_train = pd.DataFrame(X_scaled, columns=X.columns)"
   ]
  },
  {
   "cell_type": "code",
   "execution_count": 181,
   "metadata": {},
   "outputs": [
    {
     "data": {
      "text/html": [
       "<div>\n",
       "<style scoped>\n",
       "    .dataframe tbody tr th:only-of-type {\n",
       "        vertical-align: middle;\n",
       "    }\n",
       "\n",
       "    .dataframe tbody tr th {\n",
       "        vertical-align: top;\n",
       "    }\n",
       "\n",
       "    .dataframe thead th {\n",
       "        text-align: right;\n",
       "    }\n",
       "</style>\n",
       "<table border=\"1\" class=\"dataframe\">\n",
       "  <thead>\n",
       "    <tr style=\"text-align: right;\">\n",
       "      <th></th>\n",
       "      <th>customer_id</th>\n",
       "      <th>vintage</th>\n",
       "      <th>age</th>\n",
       "      <th>gender</th>\n",
       "      <th>dependents</th>\n",
       "      <th>city</th>\n",
       "      <th>customer_nw_category</th>\n",
       "      <th>branch_code</th>\n",
       "      <th>days_since_last_transaction</th>\n",
       "      <th>current_balance</th>\n",
       "      <th>...</th>\n",
       "      <th>previous_month_credit</th>\n",
       "      <th>current_month_debit</th>\n",
       "      <th>previous_month_debit</th>\n",
       "      <th>current_month_balance</th>\n",
       "      <th>previous_month_balance</th>\n",
       "      <th>occupation_company</th>\n",
       "      <th>occupation_retired</th>\n",
       "      <th>occupation_salaried</th>\n",
       "      <th>occupation_self_employed</th>\n",
       "      <th>occupation_student</th>\n",
       "    </tr>\n",
       "  </thead>\n",
       "  <tbody>\n",
       "    <tr>\n",
       "      <th>0</th>\n",
       "      <td>0.000000</td>\n",
       "      <td>0.232330</td>\n",
       "      <td>0.730337</td>\n",
       "      <td>1.0</td>\n",
       "      <td>0.000000</td>\n",
       "      <td>0.113402</td>\n",
       "      <td>0.500015</td>\n",
       "      <td>0.157708</td>\n",
       "      <td>0.224224</td>\n",
       "      <td>0.118905</td>\n",
       "      <td>...</td>\n",
       "      <td>0.000002</td>\n",
       "      <td>0.000002</td>\n",
       "      <td>0.000003</td>\n",
       "      <td>0.078508</td>\n",
       "      <td>0.100438</td>\n",
       "      <td>0.0</td>\n",
       "      <td>0.0</td>\n",
       "      <td>0.0</td>\n",
       "      <td>1.0</td>\n",
       "      <td>0.0</td>\n",
       "    </tr>\n",
       "    <tr>\n",
       "      <th>1</th>\n",
       "      <td>0.000033</td>\n",
       "      <td>0.010221</td>\n",
       "      <td>0.382022</td>\n",
       "      <td>1.0</td>\n",
       "      <td>0.000000</td>\n",
       "      <td>0.618557</td>\n",
       "      <td>0.500015</td>\n",
       "      <td>0.672035</td>\n",
       "      <td>0.060060</td>\n",
       "      <td>0.167391</td>\n",
       "      <td>...</td>\n",
       "      <td>0.000007</td>\n",
       "      <td>0.045777</td>\n",
       "      <td>0.001330</td>\n",
       "      <td>0.140918</td>\n",
       "      <td>0.175893</td>\n",
       "      <td>0.0</td>\n",
       "      <td>0.0</td>\n",
       "      <td>0.0</td>\n",
       "      <td>1.0</td>\n",
       "      <td>0.0</td>\n",
       "    </tr>\n",
       "    <tr>\n",
       "      <th>2</th>\n",
       "      <td>0.000099</td>\n",
       "      <td>0.171083</td>\n",
       "      <td>0.337079</td>\n",
       "      <td>1.0</td>\n",
       "      <td>0.000000</td>\n",
       "      <td>0.088539</td>\n",
       "      <td>0.500015</td>\n",
       "      <td>0.008366</td>\n",
       "      <td>1.000000</td>\n",
       "      <td>0.150253</td>\n",
       "      <td>...</td>\n",
       "      <td>0.000007</td>\n",
       "      <td>0.049806</td>\n",
       "      <td>0.003414</td>\n",
       "      <td>0.123970</td>\n",
       "      <td>0.140763</td>\n",
       "      <td>0.0</td>\n",
       "      <td>0.0</td>\n",
       "      <td>1.0</td>\n",
       "      <td>0.0</td>\n",
       "      <td>0.0</td>\n",
       "    </tr>\n",
       "    <tr>\n",
       "      <th>3</th>\n",
       "      <td>0.000132</td>\n",
       "      <td>0.023430</td>\n",
       "      <td>1.000000</td>\n",
       "      <td>0.0</td>\n",
       "      <td>0.000000</td>\n",
       "      <td>0.618557</td>\n",
       "      <td>0.500015</td>\n",
       "      <td>0.121523</td>\n",
       "      <td>0.147147</td>\n",
       "      <td>0.129991</td>\n",
       "      <td>...</td>\n",
       "      <td>0.000005</td>\n",
       "      <td>0.000004</td>\n",
       "      <td>0.026785</td>\n",
       "      <td>0.089925</td>\n",
       "      <td>0.103004</td>\n",
       "      <td>0.0</td>\n",
       "      <td>0.0</td>\n",
       "      <td>0.0</td>\n",
       "      <td>1.0</td>\n",
       "      <td>0.0</td>\n",
       "    </tr>\n",
       "    <tr>\n",
       "      <th>4</th>\n",
       "      <td>0.000165</td>\n",
       "      <td>0.184842</td>\n",
       "      <td>0.460674</td>\n",
       "      <td>1.0</td>\n",
       "      <td>0.038462</td>\n",
       "      <td>0.906004</td>\n",
       "      <td>1.000000</td>\n",
       "      <td>0.080945</td>\n",
       "      <td>0.058058</td>\n",
       "      <td>0.111576</td>\n",
       "      <td>...</td>\n",
       "      <td>0.008333</td>\n",
       "      <td>0.005571</td>\n",
       "      <td>0.019538</td>\n",
       "      <td>0.074248</td>\n",
       "      <td>0.103093</td>\n",
       "      <td>0.0</td>\n",
       "      <td>0.0</td>\n",
       "      <td>0.0</td>\n",
       "      <td>1.0</td>\n",
       "      <td>0.0</td>\n",
       "    </tr>\n",
       "    <tr>\n",
       "      <th>...</th>\n",
       "      <td>...</td>\n",
       "      <td>...</td>\n",
       "      <td>...</td>\n",
       "      <td>...</td>\n",
       "      <td>...</td>\n",
       "      <td>...</td>\n",
       "      <td>...</td>\n",
       "      <td>...</td>\n",
       "      <td>...</td>\n",
       "      <td>...</td>\n",
       "      <td>...</td>\n",
       "      <td>...</td>\n",
       "      <td>...</td>\n",
       "      <td>...</td>\n",
       "      <td>...</td>\n",
       "      <td>...</td>\n",
       "      <td>...</td>\n",
       "      <td>...</td>\n",
       "      <td>...</td>\n",
       "      <td>...</td>\n",
       "      <td>...</td>\n",
       "    </tr>\n",
       "    <tr>\n",
       "      <th>28368</th>\n",
       "      <td>0.999868</td>\n",
       "      <td>0.130907</td>\n",
       "      <td>0.101124</td>\n",
       "      <td>0.5</td>\n",
       "      <td>0.000000</td>\n",
       "      <td>0.618557</td>\n",
       "      <td>0.500015</td>\n",
       "      <td>0.252248</td>\n",
       "      <td>0.070070</td>\n",
       "      <td>0.113650</td>\n",
       "      <td>...</td>\n",
       "      <td>0.000003</td>\n",
       "      <td>0.000003</td>\n",
       "      <td>0.000004</td>\n",
       "      <td>0.073095</td>\n",
       "      <td>0.095715</td>\n",
       "      <td>0.0</td>\n",
       "      <td>0.0</td>\n",
       "      <td>0.0</td>\n",
       "      <td>0.0</td>\n",
       "      <td>1.0</td>\n",
       "    </tr>\n",
       "    <tr>\n",
       "      <th>28369</th>\n",
       "      <td>0.999901</td>\n",
       "      <td>0.372592</td>\n",
       "      <td>0.370787</td>\n",
       "      <td>0.5</td>\n",
       "      <td>0.000000</td>\n",
       "      <td>0.634324</td>\n",
       "      <td>0.500015</td>\n",
       "      <td>0.046434</td>\n",
       "      <td>0.014014</td>\n",
       "      <td>0.149423</td>\n",
       "      <td>...</td>\n",
       "      <td>0.000027</td>\n",
       "      <td>0.008452</td>\n",
       "      <td>0.013070</td>\n",
       "      <td>0.108625</td>\n",
       "      <td>0.126194</td>\n",
       "      <td>0.0</td>\n",
       "      <td>0.0</td>\n",
       "      <td>0.0</td>\n",
       "      <td>1.0</td>\n",
       "      <td>0.0</td>\n",
       "    </tr>\n",
       "    <tr>\n",
       "      <th>28370</th>\n",
       "      <td>0.999934</td>\n",
       "      <td>0.009199</td>\n",
       "      <td>0.516854</td>\n",
       "      <td>1.0</td>\n",
       "      <td>0.000000</td>\n",
       "      <td>0.664645</td>\n",
       "      <td>0.500015</td>\n",
       "      <td>0.122778</td>\n",
       "      <td>0.000000</td>\n",
       "      <td>0.494907</td>\n",
       "      <td>...</td>\n",
       "      <td>0.041635</td>\n",
       "      <td>0.001612</td>\n",
       "      <td>0.000951</td>\n",
       "      <td>0.451476</td>\n",
       "      <td>0.415505</td>\n",
       "      <td>0.0</td>\n",
       "      <td>0.0</td>\n",
       "      <td>1.0</td>\n",
       "      <td>0.0</td>\n",
       "      <td>0.0</td>\n",
       "    </tr>\n",
       "    <tr>\n",
       "      <th>28371</th>\n",
       "      <td>0.999967</td>\n",
       "      <td>0.189087</td>\n",
       "      <td>0.550562</td>\n",
       "      <td>1.0</td>\n",
       "      <td>0.057692</td>\n",
       "      <td>0.739236</td>\n",
       "      <td>1.000000</td>\n",
       "      <td>0.057101</td>\n",
       "      <td>1.000000</td>\n",
       "      <td>0.121165</td>\n",
       "      <td>...</td>\n",
       "      <td>0.000002</td>\n",
       "      <td>0.000002</td>\n",
       "      <td>0.000003</td>\n",
       "      <td>0.080835</td>\n",
       "      <td>0.102468</td>\n",
       "      <td>0.0</td>\n",
       "      <td>0.0</td>\n",
       "      <td>0.0</td>\n",
       "      <td>1.0</td>\n",
       "      <td>0.0</td>\n",
       "    </tr>\n",
       "    <tr>\n",
       "      <th>28372</th>\n",
       "      <td>1.000000</td>\n",
       "      <td>0.170532</td>\n",
       "      <td>0.191011</td>\n",
       "      <td>1.0</td>\n",
       "      <td>0.000000</td>\n",
       "      <td>0.747119</td>\n",
       "      <td>0.500015</td>\n",
       "      <td>0.098933</td>\n",
       "      <td>0.059059</td>\n",
       "      <td>0.127573</td>\n",
       "      <td>...</td>\n",
       "      <td>0.000088</td>\n",
       "      <td>0.006737</td>\n",
       "      <td>0.014070</td>\n",
       "      <td>0.091405</td>\n",
       "      <td>0.121457</td>\n",
       "      <td>0.0</td>\n",
       "      <td>0.0</td>\n",
       "      <td>0.0</td>\n",
       "      <td>0.0</td>\n",
       "      <td>1.0</td>\n",
       "    </tr>\n",
       "  </tbody>\n",
       "</table>\n",
       "<p>28373 rows × 24 columns</p>\n",
       "</div>"
      ],
      "text/plain": [
       "       customer_id   vintage       age  gender  dependents      city  \\\n",
       "0         0.000000  0.232330  0.730337     1.0    0.000000  0.113402   \n",
       "1         0.000033  0.010221  0.382022     1.0    0.000000  0.618557   \n",
       "2         0.000099  0.171083  0.337079     1.0    0.000000  0.088539   \n",
       "3         0.000132  0.023430  1.000000     0.0    0.000000  0.618557   \n",
       "4         0.000165  0.184842  0.460674     1.0    0.038462  0.906004   \n",
       "...            ...       ...       ...     ...         ...       ...   \n",
       "28368     0.999868  0.130907  0.101124     0.5    0.000000  0.618557   \n",
       "28369     0.999901  0.372592  0.370787     0.5    0.000000  0.634324   \n",
       "28370     0.999934  0.009199  0.516854     1.0    0.000000  0.664645   \n",
       "28371     0.999967  0.189087  0.550562     1.0    0.057692  0.739236   \n",
       "28372     1.000000  0.170532  0.191011     1.0    0.000000  0.747119   \n",
       "\n",
       "       customer_nw_category  branch_code  days_since_last_transaction  \\\n",
       "0                  0.500015     0.157708                     0.224224   \n",
       "1                  0.500015     0.672035                     0.060060   \n",
       "2                  0.500015     0.008366                     1.000000   \n",
       "3                  0.500015     0.121523                     0.147147   \n",
       "4                  1.000000     0.080945                     0.058058   \n",
       "...                     ...          ...                          ...   \n",
       "28368              0.500015     0.252248                     0.070070   \n",
       "28369              0.500015     0.046434                     0.014014   \n",
       "28370              0.500015     0.122778                     0.000000   \n",
       "28371              1.000000     0.057101                     1.000000   \n",
       "28372              0.500015     0.098933                     0.059059   \n",
       "\n",
       "       current_balance  ...  previous_month_credit  current_month_debit  \\\n",
       "0             0.118905  ...               0.000002             0.000002   \n",
       "1             0.167391  ...               0.000007             0.045777   \n",
       "2             0.150253  ...               0.000007             0.049806   \n",
       "3             0.129991  ...               0.000005             0.000004   \n",
       "4             0.111576  ...               0.008333             0.005571   \n",
       "...                ...  ...                    ...                  ...   \n",
       "28368         0.113650  ...               0.000003             0.000003   \n",
       "28369         0.149423  ...               0.000027             0.008452   \n",
       "28370         0.494907  ...               0.041635             0.001612   \n",
       "28371         0.121165  ...               0.000002             0.000002   \n",
       "28372         0.127573  ...               0.000088             0.006737   \n",
       "\n",
       "       previous_month_debit  current_month_balance  previous_month_balance  \\\n",
       "0                  0.000003               0.078508                0.100438   \n",
       "1                  0.001330               0.140918                0.175893   \n",
       "2                  0.003414               0.123970                0.140763   \n",
       "3                  0.026785               0.089925                0.103004   \n",
       "4                  0.019538               0.074248                0.103093   \n",
       "...                     ...                    ...                     ...   \n",
       "28368              0.000004               0.073095                0.095715   \n",
       "28369              0.013070               0.108625                0.126194   \n",
       "28370              0.000951               0.451476                0.415505   \n",
       "28371              0.000003               0.080835                0.102468   \n",
       "28372              0.014070               0.091405                0.121457   \n",
       "\n",
       "       occupation_company  occupation_retired  occupation_salaried  \\\n",
       "0                     0.0                 0.0                  0.0   \n",
       "1                     0.0                 0.0                  0.0   \n",
       "2                     0.0                 0.0                  1.0   \n",
       "3                     0.0                 0.0                  0.0   \n",
       "4                     0.0                 0.0                  0.0   \n",
       "...                   ...                 ...                  ...   \n",
       "28368                 0.0                 0.0                  0.0   \n",
       "28369                 0.0                 0.0                  0.0   \n",
       "28370                 0.0                 0.0                  1.0   \n",
       "28371                 0.0                 0.0                  0.0   \n",
       "28372                 0.0                 0.0                  0.0   \n",
       "\n",
       "       occupation_self_employed  occupation_student  \n",
       "0                           1.0                 0.0  \n",
       "1                           1.0                 0.0  \n",
       "2                           0.0                 0.0  \n",
       "3                           1.0                 0.0  \n",
       "4                           1.0                 0.0  \n",
       "...                         ...                 ...  \n",
       "28368                       0.0                 1.0  \n",
       "28369                       1.0                 0.0  \n",
       "28370                       0.0                 0.0  \n",
       "28371                       1.0                 0.0  \n",
       "28372                       0.0                 1.0  \n",
       "\n",
       "[28373 rows x 24 columns]"
      ]
     },
     "execution_count": 181,
     "metadata": {},
     "output_type": "execute_result"
    }
   ],
   "source": [
    "X_train"
   ]
  },
  {
   "cell_type": "code",
   "execution_count": 182,
   "metadata": {},
   "outputs": [],
   "source": [
    "train_x, test_x, train_y, test_y = train_test_split(X_train, Y,test_size=0.33, random_state=52, stratify=Y)"
   ]
  },
  {
   "cell_type": "markdown",
   "metadata": {},
   "source": [
    "# Application of machine learning models on the given data\n",
    "\n",
    "Here I will apply 3 models in the cleaned data.They are:\n",
    "        1) Logistic Regression\n",
    "        2) Random Forest\n",
    "        3) K Nearest Neighbors(KNN)\n",
    "For evaluating the result I will give more priority to evaluatiion metrics such as AUC_ROC score , precision over any other metrics because we want to maximize TPR and minimise FPR . Thus our motive is to see whether we get good values of AUC_RUC and precision for the above mentioned models. "
   ]
  },
  {
   "cell_type": "markdown",
   "metadata": {},
   "source": [
    "# Logistic regression"
   ]
  },
  {
   "cell_type": "code",
   "execution_count": 183,
   "metadata": {},
   "outputs": [],
   "source": [
    "from sklearn.metrics import accuracy_score\n",
    "from sklearn.metrics import f1_score\n",
    "from sklearn.metrics import recall_score, precision_score"
   ]
  },
  {
   "cell_type": "code",
   "execution_count": 184,
   "metadata": {},
   "outputs": [
    {
     "name": "stdout",
     "output_type": "stream",
     "text": [
      "Logistic Reg Train:  0.23019861210815984\n",
      "Logistic Reg Test:  0.21550463188688443\n"
     ]
    }
   ],
   "source": [
    "log = LogisticRegression()\n",
    "log.fit(train_x, train_y)\n",
    "my_pred = log.predict(train_x)\n",
    "train_score = f1_score(my_pred, train_y)\n",
    "print('Logistic Reg Train: ',train_score)\n",
    "my_pred_test = log.predict(test_x)\n",
    "test_score = f1_score(my_pred_test, test_y)\n",
    "print('Logistic Reg Test: ',test_score)"
   ]
  },
  {
   "cell_type": "code",
   "execution_count": 185,
   "metadata": {},
   "outputs": [
    {
     "data": {
      "text/plain": [
       "0.6993670886075949"
      ]
     },
     "execution_count": 185,
     "metadata": {},
     "output_type": "execute_result"
    }
   ],
   "source": [
    "pred = log.predict_proba(test_x)[:,1]\n",
    "pred_val = log.predict(test_x)\n",
    "precision_score(test_y, pred_val)"
   ]
  },
  {
   "cell_type": "code",
   "execution_count": 186,
   "metadata": {},
   "outputs": [
    {
     "data": {
      "text/plain": [
       "0.7321156773211568"
      ]
     },
     "execution_count": 186,
     "metadata": {},
     "output_type": "execute_result"
    }
   ],
   "source": [
    "pred = log.predict_proba(train_x)[:,1]\n",
    "pred_val = log.predict(train_x)\n",
    "precision_score(train_y, pred_val)"
   ]
  },
  {
   "cell_type": "markdown",
   "metadata": {},
   "source": [
    "# Random Forest"
   ]
  },
  {
   "cell_type": "code",
   "execution_count": 187,
   "metadata": {},
   "outputs": [],
   "source": [
    "from sklearn.ensemble import RandomForestClassifier as rand"
   ]
  },
  {
   "cell_type": "code",
   "execution_count": 188,
   "metadata": {},
   "outputs": [
    {
     "data": {
      "text/plain": [
       "0.6559793624470242"
      ]
     },
     "execution_count": 188,
     "metadata": {},
     "output_type": "execute_result"
    }
   ],
   "source": [
    "random = rand(n_estimators=100, max_depth=10)\n",
    "random.fit(train_x, train_y)\n",
    "my_pred= random.predict(train_x)\n",
    "score = f1_score(my_pred,train_y)\n",
    "score"
   ]
  },
  {
   "cell_type": "code",
   "execution_count": 189,
   "metadata": {},
   "outputs": [
    {
     "data": {
      "text/plain": [
       "0.7220982142857143"
      ]
     },
     "execution_count": 189,
     "metadata": {},
     "output_type": "execute_result"
    }
   ],
   "source": [
    "pred = random.predict_proba(test_x)[:,1]\n",
    "pred_val = random.predict(test_x)\n",
    "precision_score(test_y, pred_val)"
   ]
  },
  {
   "cell_type": "code",
   "execution_count": 190,
   "metadata": {},
   "outputs": [
    {
     "data": {
      "text/plain": [
       "0.9343832020997376"
      ]
     },
     "execution_count": 190,
     "metadata": {},
     "output_type": "execute_result"
    }
   ],
   "source": [
    "pred = random.predict_proba(train_x)[:,1]\n",
    "pred_val = random.predict(train_x)\n",
    "precision_score(train_y, pred_val)"
   ]
  },
  {
   "cell_type": "markdown",
   "metadata": {},
   "source": [
    "# KNN"
   ]
  },
  {
   "cell_type": "code",
   "execution_count": 191,
   "metadata": {},
   "outputs": [],
   "source": [
    "from sklearn.neighbors import KNeighborsClassifier as KNN"
   ]
  },
  {
   "cell_type": "code",
   "execution_count": 192,
   "metadata": {},
   "outputs": [
    {
     "name": "stdout",
     "output_type": "stream",
     "text": [
      "KNN Classifier Train:  0.005090497737556561\n",
      "KNN Classifier Test:  0.0011487650775416428\n"
     ]
    }
   ],
   "source": [
    "knn = KNN(n_neighbors=29)\n",
    "knn.fit(train_x, train_y)\n",
    "my_pred = knn.predict(train_x)\n",
    "train_score = f1_score(my_pred, train_y)\n",
    "print('KNN Classifier Train: ',train_score)\n",
    "my_pred_test = knn.predict(test_x)\n",
    "test_score = f1_score(my_pred_test, test_y)\n",
    "print('KNN Classifier Test: ',test_score)"
   ]
  },
  {
   "cell_type": "code",
   "execution_count": 193,
   "metadata": {},
   "outputs": [
    {
     "data": {
      "text/plain": [
       "0.16666666666666666"
      ]
     },
     "execution_count": 193,
     "metadata": {},
     "output_type": "execute_result"
    }
   ],
   "source": [
    "pred = knn.predict_proba(test_x)[:,1]\n",
    "pred_val = knn.predict(test_x)\n",
    "precision_score(test_y, pred_val)"
   ]
  },
  {
   "cell_type": "code",
   "execution_count": 194,
   "metadata": {},
   "outputs": [
    {
     "data": {
      "text/plain": [
       "0.6428571428571429"
      ]
     },
     "execution_count": 194,
     "metadata": {},
     "output_type": "execute_result"
    }
   ],
   "source": [
    "pred = knn.predict_proba(train_x)[:,1]\n",
    "pred_val = knn.predict(train_x)\n",
    "precision_score(train_y, pred_val)"
   ]
  },
  {
   "cell_type": "markdown",
   "metadata": {},
   "source": [
    "# Elbow Classifier for Random Forest\n",
    "Finding optimum value of  max_depth where the value of error is minimum."
   ]
  },
  {
   "cell_type": "code",
   "execution_count": 195,
   "metadata": {},
   "outputs": [],
   "source": [
    "def Elbow(K):\n",
    "    #initiating empty list\n",
    "    test_error = []\n",
    "   \n",
    "    #training model for evey value of K\n",
    "    for i in K:\n",
    "        #Instance on Random Forest\n",
    "        clf = rand(n_estimators = 100 , max_depth = i)\n",
    "        clf.fit(train_x, train_y)\n",
    "        # Appending precision scores to empty list calculated using the predictions\n",
    "        pred = clf.predict_proba(test_x)[:,1]\n",
    "        pred_val = clf.predict(test_x)\n",
    "        tmp = precision_score(test_y, pred_val)\n",
    "        error = 1-tmp\n",
    "        test_error.append(error)\n",
    "    \n",
    "    return test_error"
   ]
  },
  {
   "cell_type": "code",
   "execution_count": 196,
   "metadata": {},
   "outputs": [],
   "source": [
    "#Defining K range\n",
    "k = range(4, 20, 2)"
   ]
  },
  {
   "cell_type": "code",
   "execution_count": 197,
   "metadata": {},
   "outputs": [],
   "source": [
    "# calling above defined function\n",
    "test = Elbow(k)"
   ]
  },
  {
   "cell_type": "code",
   "execution_count": 198,
   "metadata": {},
   "outputs": [
    {
     "data": {
      "text/plain": [
       "Text(0.5, 1.0, 'Elbow Curve for test')"
      ]
     },
     "execution_count": 198,
     "metadata": {},
     "output_type": "execute_result"
    },
    {
     "data": {
      "image/png": "[encoded data removed]",
      "text/plain": [
       "<Figure size 432x288 with 1 Axes>"
      ]
     },
     "metadata": {
      "needs_background": "light"
     },
     "output_type": "display_data"
    }
   ],
   "source": [
    "# plotting the Curves\n",
    "plt.plot(k, test)\n",
    "plt.xlabel('K levels')\n",
    "plt.ylabel('Test error')\n",
    "plt.title('Elbow Curve for test')"
   ]
  },
  {
   "cell_type": "code",
   "execution_count": 199,
   "metadata": {},
   "outputs": [
    {
     "data": {
      "text/plain": [
       "0.8034623217922607"
      ]
     },
     "execution_count": 199,
     "metadata": {},
     "output_type": "execute_result"
    }
   ],
   "source": [
    "random = rand(n_estimators=100, max_depth=14)\n",
    "random.fit(train_x, train_y)\n",
    "my_pred= random.predict(train_x)\n",
    "score = f1_score(my_pred,train_y)\n",
    "score"
   ]
  },
  {
   "cell_type": "code",
   "execution_count": 200,
   "metadata": {},
   "outputs": [
    {
     "data": {
      "text/plain": [
       "0.7239958805355304"
      ]
     },
     "execution_count": 200,
     "metadata": {},
     "output_type": "execute_result"
    }
   ],
   "source": [
    "pred = random.predict_proba(test_x)[:,1]\n",
    "pred_val = random.predict(test_x)\n",
    "precision_score(test_y, pred_val)"
   ]
  },
  {
   "cell_type": "code",
   "execution_count": 201,
   "metadata": {},
   "outputs": [
    {
     "data": {
      "text/plain": [
       "0.9987341772151899"
      ]
     },
     "execution_count": 201,
     "metadata": {},
     "output_type": "execute_result"
    }
   ],
   "source": [
    "pred = random.predict_proba(train_x)[:,1]\n",
    "pred_val = random.predict(train_x)\n",
    "precision_score(train_y, pred_val)"
   ]
  },
  {
   "cell_type": "markdown",
   "metadata": {},
   "source": [
    "We choose max_depth to be 8 instead of 14 because for 14 we see that our model significantly overfits the data.Hence we choose max_depth to be 8."
   ]
  },
  {
   "cell_type": "code",
   "execution_count": 202,
   "metadata": {},
   "outputs": [
    {
     "data": {
      "text/plain": [
       "0.5566417481311099"
      ]
     },
     "execution_count": 202,
     "metadata": {},
     "output_type": "execute_result"
    }
   ],
   "source": [
    "random = rand(n_estimators=100, max_depth=8)\n",
    "random.fit(train_x, train_y)\n",
    "my_pred= random.predict(train_x)\n",
    "score = f1_score(my_pred,train_y)\n",
    "score"
   ]
  },
  {
   "cell_type": "code",
   "execution_count": 203,
   "metadata": {},
   "outputs": [
    {
     "data": {
      "text/plain": [
       "0.7244655581947743"
      ]
     },
     "execution_count": 203,
     "metadata": {},
     "output_type": "execute_result"
    }
   ],
   "source": [
    "pred = random.predict_proba(test_x)[:,1]\n",
    "pred_val = random.predict(test_x)\n",
    "precision_score(test_y, pred_val)"
   ]
  },
  {
   "cell_type": "code",
   "execution_count": 204,
   "metadata": {},
   "outputs": [
    {
     "data": {
      "text/plain": [
       "0.856637168141593"
      ]
     },
     "execution_count": 204,
     "metadata": {},
     "output_type": "execute_result"
    }
   ],
   "source": [
    "pred = random.predict_proba(train_x)[:,1]\n",
    "pred_val = random.predict(train_x)\n",
    "precision_score(train_y, pred_val)"
   ]
  },
  {
   "cell_type": "markdown",
   "metadata": {},
   "source": [
    "# Elbow classifier for knn\n",
    "To find the value of k for which the error of the model is least."
   ]
  },
  {
   "cell_type": "code",
   "execution_count": 205,
   "metadata": {},
   "outputs": [],
   "source": [
    "def Elbow_knn(X):\n",
    "    #initiating empty list\n",
    "    test_error_knn = []\n",
    "   \n",
    "    #training model for evey value of K\n",
    "    for i in X:\n",
    "        #Instance on Knn\n",
    "        knn_clf = KNN(n_neighbors = i)\n",
    "        knn_clf.fit(train_x, train_y)\n",
    "        # Appending precision scores to empty list calculated using the predictions\n",
    "        pred = knn_clf.predict_proba(test_x)[:,1]\n",
    "        pred_val = knn_clf.predict(test_x)\n",
    "        tmp = precision_score(test_y, pred_val)\n",
    "        error = 1-tmp\n",
    "        test_error_knn.append(error)\n",
    "    \n",
    "    return test_error_knn"
   ]
  },
  {
   "cell_type": "code",
   "execution_count": 206,
   "metadata": {},
   "outputs": [],
   "source": [
    "#Defining K range\n",
    "k_knn = range(4, 30, 1)"
   ]
  },
  {
   "cell_type": "code",
   "execution_count": 207,
   "metadata": {},
   "outputs": [],
   "source": [
    "# calling above defined function\n",
    "test_knn = Elbow_knn(k_knn)"
   ]
  },
  {
   "cell_type": "code",
   "execution_count": 208,
   "metadata": {},
   "outputs": [
    {
     "data": {
      "text/plain": [
       "Text(0.5, 1.0, 'Elbow Curve for test')"
      ]
     },
     "execution_count": 208,
     "metadata": {},
     "output_type": "execute_result"
    },
    {
     "data": {
      "image/png": "[encoded data removed]",
      "text/plain": [
       "<Figure size 432x288 with 1 Axes>"
      ]
     },
     "metadata": {
      "needs_background": "light"
     },
     "output_type": "display_data"
    }
   ],
   "source": [
    "# plotting the Curves\n",
    "plt.plot(k_knn, test_knn)\n",
    "plt.xlabel('K levels')\n",
    "plt.ylabel('Test error')\n",
    "plt.title('Elbow Curve for test')"
   ]
  },
  {
   "cell_type": "code",
   "execution_count": 209,
   "metadata": {},
   "outputs": [
    {
     "name": "stdout",
     "output_type": "stream",
     "text": [
      "KNN Classifier Train:  0.011270780501549733\n",
      "KNN Classifier Test:  0.009148084619782735\n"
     ]
    }
   ],
   "source": [
    "knn = KNN(n_neighbors=23)\n",
    "knn.fit(train_x, train_y)\n",
    "my_pred = knn.predict(train_x)\n",
    "train_score = f1_score(my_pred, train_y)\n",
    "print('KNN Classifier Train: ',train_score)\n",
    "my_pred_test = knn.predict(test_x)\n",
    "test_score = f1_score(my_pred_test, test_y)\n",
    "print('KNN Classifier Test: ',test_score)"
   ]
  },
  {
   "cell_type": "code",
   "execution_count": 210,
   "metadata": {},
   "outputs": [
    {
     "data": {
      "text/plain": [
       "0.5714285714285714"
      ]
     },
     "execution_count": 210,
     "metadata": {},
     "output_type": "execute_result"
    }
   ],
   "source": [
    "pred = knn.predict_proba(test_x)[:,1]\n",
    "pred_val = knn.predict(test_x)\n",
    "precision_score(test_y, pred_val)"
   ]
  },
  {
   "cell_type": "code",
   "execution_count": 211,
   "metadata": {},
   "outputs": [
    {
     "data": {
      "text/plain": [
       "0.7407407407407407"
      ]
     },
     "execution_count": 211,
     "metadata": {},
     "output_type": "execute_result"
    }
   ],
   "source": [
    "pred = knn.predict_proba(train_x)[:,1]\n",
    "pred_val = knn.predict(train_x)\n",
    "precision_score(train_y, pred_val)"
   ]
  },
  {
   "cell_type": "code",
   "execution_count": null,
   "metadata": {},
   "outputs": [],
   "source": []
  },
  {
   "cell_type": "code",
   "execution_count": null,
   "metadata": {},
   "outputs": [],
   "source": []
  },
  {
   "cell_type": "markdown",
   "metadata": {},
   "source": [
    "# Stratified K fold Cross Validation\n",
    "Trying only one set of train and test data for the model may lead into biasness.Thus I opt to implement K fold Cross Validation with 5 folds such that each of the 3 models get trained with 5 different sets of training data and evaluate the models based on evaluation metrics like precision , recall and AUC_ROC scores. "
   ]
  },
  {
   "cell_type": "code",
   "execution_count": 212,
   "metadata": {},
   "outputs": [],
   "source": [
    "y_all = df.churn"
   ]
  },
  {
   "cell_type": "code",
   "execution_count": 213,
   "metadata": {},
   "outputs": [],
   "source": [
    "def cv_score(ml_model, rstate = 12, thres = 0.5, cols = df.columns):\n",
    "    i = 1\n",
    "    cv_scores = []\n",
    "    df1 = df.copy()\n",
    "    df1 = df[cols]\n",
    "    AUCROC_scores = []\n",
    "    \n",
    "    # 5 Fold cross validation stratified on the basis of target\n",
    "    kf = StratifiedKFold(n_splits=5,random_state=rstate,shuffle=True)\n",
    "    for df_index,test_index in kf.split(df1,Y):\n",
    "        print('\\n{} of kfold {}'.format(i,kf.n_splits))\n",
    "        xtr = X_train.iloc[df_index]\n",
    "        ytr = Y.iloc[df_index]\n",
    "        xv1 = X_train.iloc[test_index]\n",
    "        yv1 = Y.iloc[test_index]\n",
    "            \n",
    "        # Define model for fitting on the training set for each fold\n",
    "        model = ml_model\n",
    "        model.fit(xtr, ytr)\n",
    "        pred_probs = model.predict_proba(xv1)\n",
    "        pp = []\n",
    "         \n",
    "        # Use threshold to define the classes based on probability values\n",
    "        for j in pred_probs[:,1]:\n",
    "            if j>thres:\n",
    "                pp.append(1)\n",
    "            else:\n",
    "                pp.append(0)\n",
    "         \n",
    "        # Calculate scores for each fold and print\n",
    "        pred_val = pp\n",
    "        roc_score = roc_auc_score(yv1,pred_probs[:,1])\n",
    "        recall = recall_score(yv1,pred_val)\n",
    "        precision = precision_score(yv1,pred_val)\n",
    "        sufix = \"\"\n",
    "        msg = \"\"\n",
    "        msg += \"ROC AUC Score: {}, Recall Score: {:.4f}, Precision Score: {:.4f} \".format(roc_score, recall,precision)\n",
    "        print(\"{}\".format(msg))\n",
    "         \n",
    "         # Save scores\n",
    "        cv_scores.append(precision)\n",
    "        AUCROC_scores.append(roc_score)\n",
    "        i+=1\n",
    "    return cv_scores,AUCROC_scores"
   ]
  },
  {
   "cell_type": "code",
   "execution_count": 214,
   "metadata": {},
   "outputs": [
    {
     "name": "stdout",
     "output_type": "stream",
     "text": [
      "\n",
      "1 of kfold 5\n",
      "ROC AUC Score: 0.7893878461442224, Recall Score: 0.1560, Precision Score: 0.7009 \n",
      "\n",
      "2 of kfold 5\n",
      "ROC AUC Score: 0.7875410515615016, Recall Score: 0.1340, Precision Score: 0.7268 \n",
      "\n",
      "3 of kfold 5\n",
      "ROC AUC Score: 0.7863235895246861, Recall Score: 0.1293, Precision Score: 0.7351 \n",
      "\n",
      "4 of kfold 5\n",
      "ROC AUC Score: 0.7907554026500107, Recall Score: 0.1399, Precision Score: 0.7617 \n",
      "\n",
      "5 of kfold 5\n",
      "ROC AUC Score: 0.7726775875308436, Recall Score: 0.1342, Precision Score: 0.7015 \n"
     ]
    }
   ],
   "source": [
    "log_scores,log_rocscores = cv_score(LogisticRegression())"
   ]
  },
  {
   "cell_type": "code",
   "execution_count": 215,
   "metadata": {},
   "outputs": [
    {
     "name": "stdout",
     "output_type": "stream",
     "text": [
      "\n",
      "1 of kfold 5\n",
      "ROC AUC Score: 0.8339499537431807, Recall Score: 0.3435, Precision Score: 0.7367 \n",
      "\n",
      "2 of kfold 5\n",
      "ROC AUC Score: 0.8334375814759891, Recall Score: 0.3926, Precision Score: 0.7620 \n",
      "\n",
      "3 of kfold 5\n",
      "ROC AUC Score: 0.829922547947977, Recall Score: 0.3346, Precision Score: 0.7228 \n",
      "\n",
      "4 of kfold 5\n",
      "ROC AUC Score: 0.8291751847637254, Recall Score: 0.3520, Precision Score: 0.7598 \n",
      "\n",
      "5 of kfold 5\n",
      "ROC AUC Score: 0.8214427798952533, Recall Score: 0.3435, Precision Score: 0.7308 \n"
     ]
    }
   ],
   "source": [
    "rand_scores,rand_rocscores = cv_score(rand(n_estimators = 100 , max_depth = 8))"
   ]
  },
  {
   "cell_type": "code",
   "execution_count": 216,
   "metadata": {},
   "outputs": [
    {
     "name": "stdout",
     "output_type": "stream",
     "text": [
      "\n",
      "1 of kfold 5\n",
      "ROC AUC Score: 0.6032381008036506, Recall Score: 0.0057, Precision Score: 0.6667 \n",
      "\n",
      "2 of kfold 5\n",
      "ROC AUC Score: 0.6016027689293655, Recall Score: 0.0019, Precision Score: 0.2500 \n",
      "\n",
      "3 of kfold 5\n",
      "ROC AUC Score: 0.5844895213139132, Recall Score: 0.0048, Precision Score: 0.5556 \n",
      "\n",
      "4 of kfold 5\n",
      "ROC AUC Score: 0.5975436596852743, Recall Score: 0.0048, Precision Score: 0.5556 \n",
      "\n",
      "5 of kfold 5\n",
      "ROC AUC Score: 0.5780111563145675, Recall Score: 0.0038, Precision Score: 0.4444 \n"
     ]
    }
   ],
   "source": [
    "knn_scores,knn_rocscores = cv_score(KNN(n_neighbors = 23))"
   ]
  },
  {
   "cell_type": "markdown",
   "metadata": {},
   "source": [
    "# Comparison of different model Fold Wise"
   ]
  },
  {
   "cell_type": "code",
   "execution_count": 217,
   "metadata": {},
   "outputs": [],
   "source": [
    "comp_df = pd.DataFrame({'Logistic Regression' : log_scores , 'Random Forest' : rand_scores , 'KNN' : knn_scores})"
   ]
  },
  {
   "cell_type": "code",
   "execution_count": 218,
   "metadata": {},
   "outputs": [
    {
     "data": {
      "text/plain": [
       "<matplotlib.axes._subplots.AxesSubplot at 0x240be5afa08>"
      ]
     },
     "execution_count": 218,
     "metadata": {},
     "output_type": "execute_result"
    },
    {
     "data": {
      "image/png": "[encoded data removed]",
      "text/plain": [
       "<Figure size 432x288 with 1 Axes>"
      ]
     },
     "metadata": {
      "needs_background": "light"
     },
     "output_type": "display_data"
    }
   ],
   "source": [
    "comp_df.plot(y = ['Logistic Regression','Random Forest','KNN'] , kind = 'bar')"
   ]
  },
  {
   "cell_type": "code",
   "execution_count": 219,
   "metadata": {},
   "outputs": [],
   "source": [
    "comp1_df = pd.DataFrame({'Logistic Regression' : log_rocscores , 'Random Forest' : rand_rocscores , 'KNN' : knn_rocscores})"
   ]
  },
  {
   "cell_type": "code",
   "execution_count": 220,
   "metadata": {},
   "outputs": [
    {
     "data": {
      "text/plain": [
       "<matplotlib.axes._subplots.AxesSubplot at 0x240be63d6c8>"
      ]
     },
     "execution_count": 220,
     "metadata": {},
     "output_type": "execute_result"
    },
    {
     "data": {
      "image/png": "[encoded data removed]",
      "text/plain": [
       "<Figure size 432x288 with 1 Axes>"
      ]
     },
     "metadata": {
      "needs_background": "light"
     },
     "output_type": "display_data"
    }
   ],
   "source": [
    "comp1_df.plot(y = ['Logistic Regression','Random Forest','KNN'] , kind = 'bar')"
   ]
  },
  {
   "cell_type": "markdown",
   "metadata": {},
   "source": [
    "Thus we can see that Random Forest works the best for all folds of data with respect to all the evaluation metrics like ROC score , precision and also recall.Hence we choose Random Forest as our model to fit the data."
   ]
  },
  {
   "cell_type": "code",
   "execution_count": null,
   "metadata": {},
   "outputs": [],
   "source": []
  }
 ],
 "metadata": {
  "kernelspec": {
   "display_name": "Python 3",
   "language": "python",
   "name": "python3"
  },
  "language_info": {
   "codemirror_mode": {
    "name": "ipython",
    "version": 3
   },
   "file_extension": ".py",
   "mimetype": "text/x-python",
   "name": "python",
   "nbconvert_exporter": "python",
   "pygments_lexer": "ipython3",
   "version": "3.6.9"
  }
 },
 "nbformat": 4,
 "nbformat_minor": 4
}
